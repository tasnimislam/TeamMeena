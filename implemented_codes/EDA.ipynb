{
  "nbformat": 4,
  "nbformat_minor": 0,
  "metadata": {
    "accelerator": "GPU",
    "colab": {
      "name": "EDA.ipynb",
      "provenance": [],
      "collapsed_sections": [],
      "toc_visible": true,
      "include_colab_link": true
    },
    "kernelspec": {
      "display_name": "Python 3",
      "name": "python3"
    }
  },
  "cells": [
    {
      "cell_type": "markdown",
      "metadata": {
        "id": "view-in-github",
        "colab_type": "text"
      },
      "source": [
        "<a href=\"https://colab.research.google.com/github/tasnimislam/TeamMeena/blob/main/EDA.ipynb\" target=\"_parent\"><img src=\"https://colab.research.google.com/assets/colab-badge.svg\" alt=\"Open In Colab\"/></a>"
      ]
    },
    {
      "cell_type": "markdown",
      "metadata": {
        "id": "ACwjUfmvPFSE"
      },
      "source": [
        "# Dataset collection\r\n",
        "The dataset used is collected from physionet naemly \"The Term-Preterm EHG Database (TPEHG DB)\" version 1.0.1\r\n",
        "https://archive.physionet.org/physiobank/database/tpehgdb/\r\n"
      ]
    },
    {
      "cell_type": "code",
      "metadata": {
        "colab": {
          "base_uri": "https://localhost:8080/"
        },
        "id": "wDj27T9HN7LW",
        "outputId": "6d8e5d44-4c75-4fab-c40f-9018482de84f"
      },
      "source": [
        "from google.colab import drive\r\n",
        "drive.mount('/content/drive')"
      ],
      "execution_count": null,
      "outputs": [
        {
          "output_type": "stream",
          "text": [
            "Mounted at /content/drive\n"
          ],
          "name": "stdout"
        }
      ]
    },
    {
      "cell_type": "markdown",
      "metadata": {
        "id": "dVW5JtoVOTo_"
      },
      "source": [
        "# import and installation"
      ]
    },
    {
      "cell_type": "code",
      "metadata": {
        "colab": {
          "base_uri": "https://localhost:8080/"
        },
        "id": "P06XdltpORr6",
        "outputId": "dc0038a4-f64c-4312-a2f6-e7218da67397"
      },
      "source": [
        "import torch\r\n",
        "import torch.utils.data\r\n",
        "from torch import nn, optim\r\n",
        "from torch.nn import functional as F\r\n",
        "from torchvision import datasets, transforms\r\n",
        "from torchvision.utils import save_image\r\n",
        "from scipy.ndimage import filters\r\n",
        "\r\n",
        "!pip install wfdb==0.1.2\r\n",
        "import wfdb\r\n",
        "from wfdb import rdsamp\r\n",
        "import os\r\n",
        "import matplotlib.pyplot as plt\r\n",
        "from scipy.signal import find_peaks\r\n",
        "import numpy as np\r\n",
        "import random\r\n",
        "\r\n",
        "! pip install emd\r\n",
        "! pip install EMD-signal\r\n",
        "! pip install flvlib\r\n",
        "import emd\r\n",
        "import pywt\r\n",
        "import warnings\r\n",
        "warnings.filterwarnings(\"ignore\")\r\n",
        "\r\n",
        "from PyEMD import EMD\r\n",
        "from PyEMD import EEMD\r\n",
        "\r\n",
        "\r\n",
        "from __future__ import division"
      ],
      "execution_count": null,
      "outputs": [
        {
          "output_type": "stream",
          "text": [
            "Collecting wfdb==0.1.2\n",
            "  Downloading https://files.pythonhosted.org/packages/79/4b/e193d8482ea0eaf9e8db74d499b7b526116b509b97c59d7430513f1f3cda/wfdb-0.1.2.tar.gz\n",
            "Collecting nose>=1.3.7\n",
            "\u001b[?25l  Downloading https://files.pythonhosted.org/packages/15/d8/dd071918c040f50fa1cf80da16423af51ff8ce4a0f2399b7bf8de45ac3d9/nose-1.3.7-py3-none-any.whl (154kB)\n",
            "\u001b[K     |████████████████████████████████| 163kB 12.0MB/s \n",
            "\u001b[?25hRequirement already satisfied: numpy>=1.11.0 in /usr/local/lib/python3.6/dist-packages (from wfdb==0.1.2) (1.19.5)\n",
            "Requirement already satisfied: matplotlib>=1.5.1 in /usr/local/lib/python3.6/dist-packages (from wfdb==0.1.2) (3.2.2)\n",
            "Requirement already satisfied: requests>=2.10.0 in /usr/local/lib/python3.6/dist-packages (from wfdb==0.1.2) (2.23.0)\n",
            "Requirement already satisfied: kiwisolver>=1.0.1 in /usr/local/lib/python3.6/dist-packages (from matplotlib>=1.5.1->wfdb==0.1.2) (1.3.1)\n",
            "Requirement already satisfied: python-dateutil>=2.1 in /usr/local/lib/python3.6/dist-packages (from matplotlib>=1.5.1->wfdb==0.1.2) (2.8.1)\n",
            "Requirement already satisfied: pyparsing!=2.0.4,!=2.1.2,!=2.1.6,>=2.0.1 in /usr/local/lib/python3.6/dist-packages (from matplotlib>=1.5.1->wfdb==0.1.2) (2.4.7)\n",
            "Requirement already satisfied: cycler>=0.10 in /usr/local/lib/python3.6/dist-packages (from matplotlib>=1.5.1->wfdb==0.1.2) (0.10.0)\n",
            "Requirement already satisfied: idna<3,>=2.5 in /usr/local/lib/python3.6/dist-packages (from requests>=2.10.0->wfdb==0.1.2) (2.10)\n",
            "Requirement already satisfied: chardet<4,>=3.0.2 in /usr/local/lib/python3.6/dist-packages (from requests>=2.10.0->wfdb==0.1.2) (3.0.4)\n",
            "Requirement already satisfied: urllib3!=1.25.0,!=1.25.1,<1.26,>=1.21.1 in /usr/local/lib/python3.6/dist-packages (from requests>=2.10.0->wfdb==0.1.2) (1.24.3)\n",
            "Requirement already satisfied: certifi>=2017.4.17 in /usr/local/lib/python3.6/dist-packages (from requests>=2.10.0->wfdb==0.1.2) (2020.12.5)\n",
            "Requirement already satisfied: six>=1.5 in /usr/local/lib/python3.6/dist-packages (from python-dateutil>=2.1->matplotlib>=1.5.1->wfdb==0.1.2) (1.15.0)\n",
            "Building wheels for collected packages: wfdb\n",
            "  Building wheel for wfdb (setup.py) ... \u001b[?25l\u001b[?25hdone\n",
            "  Created wheel for wfdb: filename=wfdb-0.1.2-cp36-none-any.whl size=23148 sha256=dc96b37f05536278ac7a345588082f973414d57e0c0ee196564161fd8dab85df\n",
            "  Stored in directory: /root/.cache/pip/wheels/b9/2e/12/e215b6517234c8fc17638fba70081e319ec8f0c21e67c1619b\n",
            "Successfully built wfdb\n",
            "Installing collected packages: nose, wfdb\n",
            "Successfully installed nose-1.3.7 wfdb-0.1.2\n",
            "Collecting emd\n",
            "\u001b[?25l  Downloading https://files.pythonhosted.org/packages/4f/9b/dc18d284959e5437cde8e93e3c99a5cd1e10d426929c0d2beb8172ff7b95/emd-0.3.3-py2.py3-none-any.whl (50kB)\n",
            "\u001b[K     |████████████████████████████████| 51kB 4.4MB/s \n",
            "\u001b[?25hCollecting sphinx-rtd-theme\n",
            "\u001b[?25l  Downloading https://files.pythonhosted.org/packages/76/81/d5af3a50a45ee4311ac2dac5b599d69f68388401c7a4ca902e0e450a9f94/sphinx_rtd_theme-0.5.1-py2.py3-none-any.whl (2.8MB)\n",
            "\u001b[K     |████████████████████████████████| 2.8MB 7.8MB/s \n",
            "\u001b[?25hRequirement already satisfied: scipy in /usr/local/lib/python3.6/dist-packages (from emd) (1.4.1)\n",
            "Requirement already satisfied: numpy in /usr/local/lib/python3.6/dist-packages (from emd) (1.19.5)\n",
            "Collecting numpydoc\n",
            "\u001b[?25l  Downloading https://files.pythonhosted.org/packages/60/1d/9e398c53d6ae27d5ab312ddc16a9ffe1bee0dfdf1d6ec88c40b0ca97582e/numpydoc-1.1.0-py3-none-any.whl (47kB)\n",
            "\u001b[K     |████████████████████████████████| 51kB 8.5MB/s \n",
            "\u001b[?25hRequirement already satisfied: matplotlib in /usr/local/lib/python3.6/dist-packages (from emd) (3.2.2)\n",
            "Requirement already satisfied: pytest in /usr/local/lib/python3.6/dist-packages (from emd) (3.6.4)\n",
            "Requirement already satisfied: pyyaml in /usr/local/lib/python3.6/dist-packages (from emd) (3.13)\n",
            "Requirement already satisfied: sphinx in /usr/local/lib/python3.6/dist-packages (from sphinx-rtd-theme->emd) (1.8.5)\n",
            "Requirement already satisfied: Jinja2>=2.3 in /usr/local/lib/python3.6/dist-packages (from numpydoc->emd) (2.11.3)\n",
            "Requirement already satisfied: cycler>=0.10 in /usr/local/lib/python3.6/dist-packages (from matplotlib->emd) (0.10.0)\n",
            "Requirement already satisfied: pyparsing!=2.0.4,!=2.1.2,!=2.1.6,>=2.0.1 in /usr/local/lib/python3.6/dist-packages (from matplotlib->emd) (2.4.7)\n",
            "Requirement already satisfied: kiwisolver>=1.0.1 in /usr/local/lib/python3.6/dist-packages (from matplotlib->emd) (1.3.1)\n",
            "Requirement already satisfied: python-dateutil>=2.1 in /usr/local/lib/python3.6/dist-packages (from matplotlib->emd) (2.8.1)\n",
            "Requirement already satisfied: six>=1.10.0 in /usr/local/lib/python3.6/dist-packages (from pytest->emd) (1.15.0)\n",
            "Requirement already satisfied: more-itertools>=4.0.0 in /usr/local/lib/python3.6/dist-packages (from pytest->emd) (8.7.0)\n",
            "Requirement already satisfied: py>=1.5.0 in /usr/local/lib/python3.6/dist-packages (from pytest->emd) (1.10.0)\n",
            "Requirement already satisfied: pluggy<0.8,>=0.5 in /usr/local/lib/python3.6/dist-packages (from pytest->emd) (0.7.1)\n",
            "Requirement already satisfied: attrs>=17.4.0 in /usr/local/lib/python3.6/dist-packages (from pytest->emd) (20.3.0)\n",
            "Requirement already satisfied: setuptools in /usr/local/lib/python3.6/dist-packages (from pytest->emd) (53.0.0)\n",
            "Requirement already satisfied: atomicwrites>=1.0 in /usr/local/lib/python3.6/dist-packages (from pytest->emd) (1.4.0)\n",
            "Requirement already satisfied: sphinxcontrib-websupport in /usr/local/lib/python3.6/dist-packages (from sphinx->sphinx-rtd-theme->emd) (1.2.4)\n",
            "Requirement already satisfied: imagesize in /usr/local/lib/python3.6/dist-packages (from sphinx->sphinx-rtd-theme->emd) (1.2.0)\n",
            "Requirement already satisfied: requests>=2.0.0 in /usr/local/lib/python3.6/dist-packages (from sphinx->sphinx-rtd-theme->emd) (2.23.0)\n",
            "Requirement already satisfied: snowballstemmer>=1.1 in /usr/local/lib/python3.6/dist-packages (from sphinx->sphinx-rtd-theme->emd) (2.1.0)\n",
            "Requirement already satisfied: Pygments>=2.0 in /usr/local/lib/python3.6/dist-packages (from sphinx->sphinx-rtd-theme->emd) (2.6.1)\n",
            "Requirement already satisfied: packaging in /usr/local/lib/python3.6/dist-packages (from sphinx->sphinx-rtd-theme->emd) (20.9)\n",
            "Requirement already satisfied: alabaster<0.8,>=0.7 in /usr/local/lib/python3.6/dist-packages (from sphinx->sphinx-rtd-theme->emd) (0.7.12)\n",
            "Requirement already satisfied: babel!=2.0,>=1.3 in /usr/local/lib/python3.6/dist-packages (from sphinx->sphinx-rtd-theme->emd) (2.9.0)\n",
            "Requirement already satisfied: docutils>=0.11 in /usr/local/lib/python3.6/dist-packages (from sphinx->sphinx-rtd-theme->emd) (0.16)\n",
            "Requirement already satisfied: MarkupSafe>=0.23 in /usr/local/lib/python3.6/dist-packages (from Jinja2>=2.3->numpydoc->emd) (1.1.1)\n",
            "Requirement already satisfied: sphinxcontrib-serializinghtml in /usr/local/lib/python3.6/dist-packages (from sphinxcontrib-websupport->sphinx->sphinx-rtd-theme->emd) (1.1.4)\n",
            "Requirement already satisfied: urllib3!=1.25.0,!=1.25.1,<1.26,>=1.21.1 in /usr/local/lib/python3.6/dist-packages (from requests>=2.0.0->sphinx->sphinx-rtd-theme->emd) (1.24.3)\n",
            "Requirement already satisfied: chardet<4,>=3.0.2 in /usr/local/lib/python3.6/dist-packages (from requests>=2.0.0->sphinx->sphinx-rtd-theme->emd) (3.0.4)\n",
            "Requirement already satisfied: certifi>=2017.4.17 in /usr/local/lib/python3.6/dist-packages (from requests>=2.0.0->sphinx->sphinx-rtd-theme->emd) (2020.12.5)\n",
            "Requirement already satisfied: idna<3,>=2.5 in /usr/local/lib/python3.6/dist-packages (from requests>=2.0.0->sphinx->sphinx-rtd-theme->emd) (2.10)\n",
            "Requirement already satisfied: pytz>=2015.7 in /usr/local/lib/python3.6/dist-packages (from babel!=2.0,>=1.3->sphinx->sphinx-rtd-theme->emd) (2018.9)\n",
            "Installing collected packages: sphinx-rtd-theme, numpydoc, emd\n",
            "Successfully installed emd-0.3.3 numpydoc-1.1.0 sphinx-rtd-theme-0.5.1\n",
            "Collecting EMD-signal\n",
            "\u001b[?25l  Downloading https://files.pythonhosted.org/packages/b6/24/b4abe96bca9af04bea8ff39daa752caafe1ed471a82d895fa3c1c1b4d089/EMD_signal-0.2.13-py2.py3-none-any.whl (41kB)\n",
            "\u001b[K     |████████████████████████████████| 51kB 6.4MB/s \n",
            "\u001b[?25hRequirement already satisfied: numpy>=1.12 in /usr/local/lib/python3.6/dist-packages (from EMD-signal) (1.19.5)\n",
            "Requirement already satisfied: scipy>=0.19 in /usr/local/lib/python3.6/dist-packages (from EMD-signal) (1.4.1)\n",
            "Requirement already satisfied: numpydoc in /usr/local/lib/python3.6/dist-packages (from EMD-signal) (1.1.0)\n",
            "Collecting pathos>=0.2.1\n",
            "\u001b[?25l  Downloading https://files.pythonhosted.org/packages/10/9e/0100b1d500851fc8e093da5463ca38e013c86ea0855e7c510ca0d3e1f7c1/pathos-0.2.7-py2.py3-none-any.whl (81kB)\n",
            "\u001b[K     |████████████████████████████████| 81kB 6.6MB/s \n",
            "\u001b[?25hRequirement already satisfied: sphinx>=1.6.5 in /usr/local/lib/python3.6/dist-packages (from numpydoc->EMD-signal) (1.8.5)\n",
            "Requirement already satisfied: Jinja2>=2.3 in /usr/local/lib/python3.6/dist-packages (from numpydoc->EMD-signal) (2.11.3)\n",
            "Collecting ppft>=1.6.6.3\n",
            "\u001b[?25l  Downloading https://files.pythonhosted.org/packages/51/7b/e63dcf1f9b5ecd37691ee8a7029f71ddb7cafab780a60e312d913afc0f29/ppft-1.6.6.3-py3-none-any.whl (65kB)\n",
            "\u001b[K     |████████████████████████████████| 71kB 7.5MB/s \n",
            "\u001b[?25hRequirement already satisfied: dill>=0.3.3 in /usr/local/lib/python3.6/dist-packages (from pathos>=0.2.1->EMD-signal) (0.3.3)\n",
            "Collecting pox>=0.2.9\n",
            "  Downloading https://files.pythonhosted.org/packages/6b/06/600e1b1103336ce94cf01e63a6c7b134f0edccf59bbf99189c975e2f257e/pox-0.2.9-py2.py3-none-any.whl\n",
            "Requirement already satisfied: multiprocess>=0.70.11 in /usr/local/lib/python3.6/dist-packages (from pathos>=0.2.1->EMD-signal) (0.70.11.1)\n",
            "Requirement already satisfied: six>=1.5 in /usr/local/lib/python3.6/dist-packages (from sphinx>=1.6.5->numpydoc->EMD-signal) (1.15.0)\n",
            "Requirement already satisfied: requests>=2.0.0 in /usr/local/lib/python3.6/dist-packages (from sphinx>=1.6.5->numpydoc->EMD-signal) (2.23.0)\n",
            "Requirement already satisfied: setuptools in /usr/local/lib/python3.6/dist-packages (from sphinx>=1.6.5->numpydoc->EMD-signal) (53.0.0)\n",
            "Requirement already satisfied: snowballstemmer>=1.1 in /usr/local/lib/python3.6/dist-packages (from sphinx>=1.6.5->numpydoc->EMD-signal) (2.1.0)\n",
            "Requirement already satisfied: packaging in /usr/local/lib/python3.6/dist-packages (from sphinx>=1.6.5->numpydoc->EMD-signal) (20.9)\n",
            "Requirement already satisfied: imagesize in /usr/local/lib/python3.6/dist-packages (from sphinx>=1.6.5->numpydoc->EMD-signal) (1.2.0)\n",
            "Requirement already satisfied: babel!=2.0,>=1.3 in /usr/local/lib/python3.6/dist-packages (from sphinx>=1.6.5->numpydoc->EMD-signal) (2.9.0)\n",
            "Requirement already satisfied: sphinxcontrib-websupport in /usr/local/lib/python3.6/dist-packages (from sphinx>=1.6.5->numpydoc->EMD-signal) (1.2.4)\n",
            "Requirement already satisfied: docutils>=0.11 in /usr/local/lib/python3.6/dist-packages (from sphinx>=1.6.5->numpydoc->EMD-signal) (0.16)\n",
            "Requirement already satisfied: Pygments>=2.0 in /usr/local/lib/python3.6/dist-packages (from sphinx>=1.6.5->numpydoc->EMD-signal) (2.6.1)\n",
            "Requirement already satisfied: alabaster<0.8,>=0.7 in /usr/local/lib/python3.6/dist-packages (from sphinx>=1.6.5->numpydoc->EMD-signal) (0.7.12)\n",
            "Requirement already satisfied: MarkupSafe>=0.23 in /usr/local/lib/python3.6/dist-packages (from Jinja2>=2.3->numpydoc->EMD-signal) (1.1.1)\n",
            "Requirement already satisfied: certifi>=2017.4.17 in /usr/local/lib/python3.6/dist-packages (from requests>=2.0.0->sphinx>=1.6.5->numpydoc->EMD-signal) (2020.12.5)\n",
            "Requirement already satisfied: chardet<4,>=3.0.2 in /usr/local/lib/python3.6/dist-packages (from requests>=2.0.0->sphinx>=1.6.5->numpydoc->EMD-signal) (3.0.4)\n",
            "Requirement already satisfied: idna<3,>=2.5 in /usr/local/lib/python3.6/dist-packages (from requests>=2.0.0->sphinx>=1.6.5->numpydoc->EMD-signal) (2.10)\n",
            "Requirement already satisfied: urllib3!=1.25.0,!=1.25.1,<1.26,>=1.21.1 in /usr/local/lib/python3.6/dist-packages (from requests>=2.0.0->sphinx>=1.6.5->numpydoc->EMD-signal) (1.24.3)\n",
            "Requirement already satisfied: pyparsing>=2.0.2 in /usr/local/lib/python3.6/dist-packages (from packaging->sphinx>=1.6.5->numpydoc->EMD-signal) (2.4.7)\n",
            "Requirement already satisfied: pytz>=2015.7 in /usr/local/lib/python3.6/dist-packages (from babel!=2.0,>=1.3->sphinx>=1.6.5->numpydoc->EMD-signal) (2018.9)\n",
            "Requirement already satisfied: sphinxcontrib-serializinghtml in /usr/local/lib/python3.6/dist-packages (from sphinxcontrib-websupport->sphinx>=1.6.5->numpydoc->EMD-signal) (1.1.4)\n",
            "Installing collected packages: ppft, pox, pathos, EMD-signal\n",
            "Successfully installed EMD-signal-0.2.13 pathos-0.2.7 pox-0.2.9 ppft-1.6.6.3\n",
            "Collecting flvlib\n",
            "  Downloading https://files.pythonhosted.org/packages/d9/7f/e0d55d3262a6ec04f77352d5a879fe2360ef4bc47d2cb433fda61f87ec01/flvlib-0.1.13.tar.bz2\n",
            "Building wheels for collected packages: flvlib\n",
            "  Building wheel for flvlib (setup.py) ... \u001b[?25l\u001b[?25hdone\n",
            "  Created wheel for flvlib: filename=flvlib-0.1.13-cp36-none-any.whl size=33854 sha256=5e7bf0679734f94e5170c14fdda81d2532b306cfc0c403dda1fd822190b66bba\n",
            "  Stored in directory: /root/.cache/pip/wheels/ae/cd/ea/d9f0379ff95beee82a3c68b304028ce74026ec253227f19f68\n",
            "Successfully built flvlib\n",
            "Installing collected packages: flvlib\n",
            "Successfully installed flvlib-0.1.13\n"
          ],
          "name": "stdout"
        }
      ]
    },
    {
      "cell_type": "markdown",
      "metadata": {
        "id": "GZsBZRxCOdD9"
      },
      "source": [
        "# Exploratory Data Analysis"
      ]
    },
    {
      "cell_type": "markdown",
      "metadata": {
        "id": "CJGAV6QZOowb"
      },
      "source": [
        "## Enlist the files in the folders"
      ]
    },
    {
      "cell_type": "code",
      "metadata": {
        "colab": {
          "base_uri": "https://localhost:8080/"
        },
        "id": "uZeaFqKTOjWL",
        "outputId": "abcddf8e-bbc8-482a-b20d-549e0bc203fd"
      },
      "source": [
        "from glob import glob\r\n",
        "dat_file = glob(\"/content/drive/MyDrive/mmg_dataset_v2/term-preterm-ehg-database-1.0.1.zip (Unzipped Files)/term-preterm-ehg-database-1.0.1/tpehgdb/*.dat\")\r\n",
        "hea_file = glob(\"/content/drive/MyDrive/mmg_dataset_v2/term-preterm-ehg-database-1.0.1.zip (Unzipped Files)/term-preterm-ehg-database-1.0.1/tpehgdb/*.hea\")\r\n",
        "print(len(dat_file))\r\n",
        "print(len(hea_file))"
      ],
      "execution_count": null,
      "outputs": [
        {
          "output_type": "stream",
          "text": [
            "300\n",
            "300\n"
          ],
          "name": "stdout"
        }
      ]
    },
    {
      "cell_type": "markdown",
      "metadata": {
        "id": "kQOxMvwXOnyt"
      },
      "source": [
        "## Explore one file"
      ]
    },
    {
      "cell_type": "code",
      "metadata": {
        "colab": {
          "base_uri": "https://localhost:8080/"
        },
        "id": "oePpAsVLOm8H",
        "outputId": "4025729b-1cef-4ee6-c676-2be78804a805"
      },
      "source": [
        "print(hea_file[0])\r\n",
        "sig, fields = rdsamp(hea_file[0][:-4], sampfrom=0, sampto=[], channels=[], physical=1, stacksegments=1, pbdl=0, keepfiles=0)"
      ],
      "execution_count": null,
      "outputs": [
        {
          "output_type": "stream",
          "text": [
            "/content/drive/MyDrive/mmg_dataset_v2/term-preterm-ehg-database-1.0.1.zip (Unzipped Files)/term-preterm-ehg-database-1.0.1/tpehgdb/tpehg1151.hea\n"
          ],
          "name": "stdout"
        }
      ]
    },
    {
      "cell_type": "code",
      "metadata": {
        "id": "d94fdiKBf99R"
      },
      "source": [
        "#sig[:,2]"
      ],
      "execution_count": null,
      "outputs": []
    },
    {
      "cell_type": "code",
      "metadata": {
        "colab": {
          "base_uri": "https://localhost:8080/",
          "height": 265
        },
        "id": "kz3mFhaiU3A1",
        "outputId": "76caaa71-8d52-46ea-8a24-41d95b3a3c2b"
      },
      "source": [
        "import matplotlib as mpl\r\n",
        "import matplotlib.pyplot as plt\r\n",
        "import numpy as np\r\n",
        "\r\n",
        "ax = plt.subplot(projection='3d')\r\n",
        "color = [\"\"] #thik korte hobe\r\n",
        "for i in range(1):\r\n",
        "  ax.plot(np.linspace(3200, 3500, 300), sig[3200:3500, i],  1, color='m')\r\n",
        "# Enable legend\r\n",
        "ax.legend()\r\n",
        "ax.set_title(\"My graph\")\r\n",
        "plt.show()"
      ],
      "execution_count": null,
      "outputs": [
        {
          "output_type": "stream",
          "text": [
            "No handles with labels found to put in legend.\n"
          ],
          "name": "stderr"
        },
        {
          "output_type": "display_data",
          "data": {
            "image/png": "[encoded data removed]",
            "text/plain": [
              "<Figure size 432x288 with 1 Axes>"
            ]
          },
          "metadata": {
            "tags": [],
            "needs_background": "light"
          }
        }
      ]
    },
    {
      "cell_type": "markdown",
      "metadata": {
        "id": "Okm07V4jO3xa"
      },
      "source": [
        "## Signal Channel range selected\r\n",
        "Each record is composed of three channels, recorded from 4 electrodes:\r\n",
        "\r\n",
        "the first electrode (E1) was placed 3.5 cm to the left and 3.5 cm above the navel;\r\n",
        "the second electrode (E2) was placed 3.5 cm to the right and 3.5 cm above the navel;\r\n",
        "the third electrode (E3) was placed 3.5 cm to the right and 3.5 cm below the navel;\r\n",
        "the fourth electrode (E4) was placed 3.5 cm to the left and 3.5 cm below the navel.\r\n",
        "The differences in the electrical potentials of the electrodes were recorded, producing 3 channels:\r\n",
        "\r\n",
        "S1 = E2–E1 (first channel);\r\n",
        "S2 = E2–E3 (second channel);\r\n",
        "S3 = E4–E3 (third channel).\r\n",
        "The individual records are 30 minutes in duration. Each signal has been digitized at 20 samples per second per channel with 16-bit resolution over a range of ±2.5 millivolts.\r\n",
        "\r\n",
        "Each signal was digitally filtered using 3 different 4-pole digital Butterworth filters with a double-pass filtering scheme. The band-pass cut-off frequencies were:\r\n",
        "\r\n",
        "from 0.08Hz to 4Hz;\r\n",
        "from 0.3Hz to 3Hz;\r\n",
        "from 0.3Hz to 4Hz."
      ]
    },
    {
      "cell_type": "code",
      "metadata": {
        "id": "qVTjZDj5O1hl"
      },
      "source": [
        "list_of_sig = [sig[:,2], sig[:, 6], sig[:, 10]]"
      ],
      "execution_count": null,
      "outputs": []
    },
    {
      "cell_type": "code",
      "metadata": {
        "colab": {
          "base_uri": "https://localhost:8080/"
        },
        "id": "VpXn3To0Phd_",
        "outputId": "2952f1bf-ab6f-43c0-909d-f89cdab8cc59"
      },
      "source": [
        "nsamp = 35360\r\n",
        "duration_reorded = nsamp/(20*60)\r\n",
        "duration_reorded #(30 sec er signal nise eta dhorlam)"
      ],
      "execution_count": null,
      "outputs": [
        {
          "output_type": "execute_result",
          "data": {
            "text/plain": [
              "29.466666666666665"
            ]
          },
          "metadata": {
            "tags": []
          },
          "execution_count": 7
        }
      ]
    },
    {
      "cell_type": "markdown",
      "metadata": {
        "id": "gaOqQwwDPkeR"
      },
      "source": [
        "The individual records are 30 minutes in duration. Each signal has been digitized at 20 samples per second per channel with 16-bit resolution over a range of ±2.5 millivolts. \r\n",
        "\r\n",
        "When using filtered channels, note that the first and last 180 seconds of the signals should be ignored since these intervals contain transient effects of the filters."
      ]
    },
    {
      "cell_type": "code",
      "metadata": {
        "colab": {
          "base_uri": "https://localhost:8080/"
        },
        "id": "her_yz74Sx4r",
        "outputId": "0c9e1da8-7139-41e6-c26e-d9064c41c831"
      },
      "source": [
        "tin_sec_er_data = int(nsamp*3//duration_reorded) #transient er jonno bad)\r\n",
        "print(tin_sec_er_data)\r\n",
        "sig_thik = sig[tin_sec_er_data:(nsamp-tin_sec_er_data), 2]\r\n",
        "print(len(sig_thik))"
      ],
      "execution_count": null,
      "outputs": [
        {
          "output_type": "stream",
          "text": [
            "3600\n",
            "28160\n"
          ],
          "name": "stdout"
        }
      ]
    },
    {
      "cell_type": "code",
      "metadata": {
        "colab": {
          "base_uri": "https://localhost:8080/"
        },
        "id": "OaZCf3M6S0tG",
        "outputId": "56e8745f-ab74-47f7-aff5-82c880456b9c"
      },
      "source": [
        "#create torch for a single channel\r\n",
        "numpy_sig = np.array(sig[:, 2])\r\n",
        "print(numpy_sig.shape)\r\n",
        "#plt.plot(numpy_sig)\r\n",
        "sig_torch = torch.from_numpy(numpy_sig)\r\n",
        "print(sig_torch.size())\r\n",
        "print(sig_torch)\r\n",
        "#1d array hobe bolse so thik i ase"
      ],
      "execution_count": null,
      "outputs": [
        {
          "output_type": "stream",
          "text": [
            "(35360,)\n",
            "torch.Size([35360])\n",
            "tensor([0.0010, 0.0067, 0.0202,  ..., 0.0000, 0.0002, 0.0002],\n",
            "       dtype=torch.float64)\n"
          ],
          "name": "stdout"
        }
      ]
    },
    {
      "cell_type": "code",
      "metadata": {
        "colab": {
          "base_uri": "https://localhost:8080/"
        },
        "id": "V1bn0kh3S_og",
        "outputId": "dcabd6aa-82d7-4b24-bedd-90ce56be2192"
      },
      "source": [
        "numpy_list_3 = np.array(list_of_sig)\r\n",
        "sig_torch_listi = torch.from_numpy(numpy_list_3)\r\n",
        "print(sig_torch_listi.size())"
      ],
      "execution_count": null,
      "outputs": [
        {
          "output_type": "stream",
          "text": [
            "torch.Size([3, 35360])\n"
          ],
          "name": "stdout"
        }
      ]
    },
    {
      "cell_type": "markdown",
      "metadata": {
        "id": "TTgtMUmcTbCW"
      },
      "source": [
        "## Create csv file"
      ]
    },
    {
      "cell_type": "code",
      "metadata": {
        "colab": {
          "base_uri": "https://localhost:8080/"
        },
        "id": "zBWAqy5DTdc9",
        "outputId": "327c3702-a314-4ab5-d467-72c1cd9dd323"
      },
      "source": [
        "print(fields)\r\n",
        "for values in fields.keys():\r\n",
        "  print(values, \":\", fields[values])"
      ],
      "execution_count": null,
      "outputs": [
        {
          "output_type": "stream",
          "text": [
            "{'nseg': 1, 'nsig': 12, 'fs': 20.0, 'nsamp': 35360, 'basetime': '', 'basedate': '', 'filename': ['tpehg1151.dat', 'tpehg1151.dat', 'tpehg1151.dat', 'tpehg1151.dat', 'tpehg1151.dat', 'tpehg1151.dat', 'tpehg1151.dat', 'tpehg1151.dat', 'tpehg1151.dat', 'tpehg1151.dat', 'tpehg1151.dat', 'tpehg1151.dat'], 'fmt': ['16', '16', '16', '16', '16', '16', '16', '16', '16', '16', '16', '16'], 'sampsperframe': [1, 1, 1, 1, 1, 1, 1, 1, 1, 1, 1, 1], 'skew': [0, 0, 0, 0, 0, 0, 0, 0, 0, 0, 0, 0], 'byteoffset': [0, 0, 0, 0, 0, 0, 0, 0, 0, 0, 0, 0], 'gain': [13107.0, 13107.0, 13107.0, 13107.0, 13107.0, 13107.0, 13107.0, 13107.0, 13107.0, 13107.0, 13107.0, 13107.0], 'units': ['mV', 'mV', 'mV', 'mV', 'mV', 'mV', 'mV', 'mV', 'mV', 'mV', 'mV', 'mV'], 'baseline': [0, 0, 0, 0, 0, 0, 0, 0, 0, 0, 0, 0], 'initvalue': [1672, 40, 13, 34, 749, 19, 5, 13, -204, -6, -2, -6], 'signame': ['1', '1_DOCFILT-4-0.08-4', '1_DOCFILT-4-0.3-3', '1_DOCFILT-4-0.3-4', '2', '2_DOCFILT-4-0.08-4', '2_DOCFILT-4-0.3-3', '2_DOCFILT-4-0.3-4', '3', '3_DOCFILT-4-0.08-4', '3_DOCFILT-4-0.3-3', '3_DOCFILT-4-0.3-4'], 'nsampseg': [], 'comments': ['Comments:', '    RecID 1151', '    Gestation 40.3', '    Rectime 22.3', '    Age None', '    Parity None', '    Abortions None', '    Weight 65', '    Hypertension None', '    Diabetes None', '    Placental_position end', '    Bleeding_first_trimester no', '    Bleeding_second_trimester no', '    Funneling negative', '    Smoker None']}\n",
            "nseg : 1\n",
            "nsig : 12\n",
            "fs : 20.0\n",
            "nsamp : 35360\n",
            "basetime : \n",
            "basedate : \n",
            "filename : ['tpehg1151.dat', 'tpehg1151.dat', 'tpehg1151.dat', 'tpehg1151.dat', 'tpehg1151.dat', 'tpehg1151.dat', 'tpehg1151.dat', 'tpehg1151.dat', 'tpehg1151.dat', 'tpehg1151.dat', 'tpehg1151.dat', 'tpehg1151.dat']\n",
            "fmt : ['16', '16', '16', '16', '16', '16', '16', '16', '16', '16', '16', '16']\n",
            "sampsperframe : [1, 1, 1, 1, 1, 1, 1, 1, 1, 1, 1, 1]\n",
            "skew : [0, 0, 0, 0, 0, 0, 0, 0, 0, 0, 0, 0]\n",
            "byteoffset : [0, 0, 0, 0, 0, 0, 0, 0, 0, 0, 0, 0]\n",
            "gain : [13107.0, 13107.0, 13107.0, 13107.0, 13107.0, 13107.0, 13107.0, 13107.0, 13107.0, 13107.0, 13107.0, 13107.0]\n",
            "units : ['mV', 'mV', 'mV', 'mV', 'mV', 'mV', 'mV', 'mV', 'mV', 'mV', 'mV', 'mV']\n",
            "baseline : [0, 0, 0, 0, 0, 0, 0, 0, 0, 0, 0, 0]\n",
            "initvalue : [1672, 40, 13, 34, 749, 19, 5, 13, -204, -6, -2, -6]\n",
            "signame : ['1', '1_DOCFILT-4-0.08-4', '1_DOCFILT-4-0.3-3', '1_DOCFILT-4-0.3-4', '2', '2_DOCFILT-4-0.08-4', '2_DOCFILT-4-0.3-3', '2_DOCFILT-4-0.3-4', '3', '3_DOCFILT-4-0.08-4', '3_DOCFILT-4-0.3-3', '3_DOCFILT-4-0.3-4']\n",
            "nsampseg : []\n",
            "comments : ['Comments:', '    RecID 1151', '    Gestation 40.3', '    Rectime 22.3', '    Age None', '    Parity None', '    Abortions None', '    Weight 65', '    Hypertension None', '    Diabetes None', '    Placental_position end', '    Bleeding_first_trimester no', '    Bleeding_second_trimester no', '    Funneling negative', '    Smoker None']\n"
          ],
          "name": "stdout"
        }
      ]
    },
    {
      "cell_type": "code",
      "metadata": {
        "id": "sPA2QBPgTjY1"
      },
      "source": [
        "import pandas as pd\r\n",
        "df = pd.DataFrame()\r\n",
        "#[' Cervical Dilation: 3/50/-2', ' Days to deliver after recording: 1', ' Race: W', ' BMI: 39.24', ' Gestation: 40+3']"
      ],
      "execution_count": null,
      "outputs": []
    },
    {
      "cell_type": "code",
      "metadata": {
        "colab": {
          "base_uri": "https://localhost:8080/",
          "height": 224
        },
        "id": "KJc2R4lrTqJx",
        "outputId": "c4dd6960-4ecb-48a5-8a28-768855adc61a"
      },
      "source": [
        "for i, file_name in enumerate(hea_file):\r\n",
        "  if file_name == \"/content/drive/MyDrive/mmg dataset/mmg-database-1.0.0/sensorpositions.hea\" or file_name == \"/content/drive/MyDrive/mmg dataset/mmg-database-1.0.0/218_38w0d.hea\": continue\r\n",
        "  sig, fields = rdsamp(file_name[:-4], sampfrom=0, sampto=[], channels=[], physical=1, stacksegments=1, pbdl=0, keepfiles=0)\r\n",
        "  df.at[i, \"nseg\"] = fields[\"nseg\"]\r\n",
        "  comments = fields[\"comments\"]\r\n",
        "  for comment_idx, values in enumerate(comments):\r\n",
        "    if comment_idx==0: continue\r\n",
        "    keys_val = values.split(\" \")\r\n",
        "    df.at[i, keys_val[-2]] = keys_val[-1]\r\n",
        "df.head()"
      ],
      "execution_count": null,
      "outputs": [
        {
          "output_type": "execute_result",
          "data": {
            "text/html": [
              "<div>\n",
              "<style scoped>\n",
              "    .dataframe tbody tr th:only-of-type {\n",
              "        vertical-align: middle;\n",
              "    }\n",
              "\n",
              "    .dataframe tbody tr th {\n",
              "        vertical-align: top;\n",
              "    }\n",
              "\n",
              "    .dataframe thead th {\n",
              "        text-align: right;\n",
              "    }\n",
              "</style>\n",
              "<table border=\"1\" class=\"dataframe\">\n",
              "  <thead>\n",
              "    <tr style=\"text-align: right;\">\n",
              "      <th></th>\n",
              "      <th>nseg</th>\n",
              "      <th>RecID</th>\n",
              "      <th>Gestation</th>\n",
              "      <th>Rectime</th>\n",
              "      <th>Age</th>\n",
              "      <th>Parity</th>\n",
              "      <th>Abortions</th>\n",
              "      <th>Weight</th>\n",
              "      <th>Hypertension</th>\n",
              "      <th>Diabetes</th>\n",
              "      <th>Placental_position</th>\n",
              "      <th>Bleeding_first_trimester</th>\n",
              "      <th>Bleeding_second_trimester</th>\n",
              "      <th>Funneling</th>\n",
              "      <th>Smoker</th>\n",
              "    </tr>\n",
              "  </thead>\n",
              "  <tbody>\n",
              "    <tr>\n",
              "      <th>0</th>\n",
              "      <td>1.0</td>\n",
              "      <td>1151</td>\n",
              "      <td>40.3</td>\n",
              "      <td>22.3</td>\n",
              "      <td>None</td>\n",
              "      <td>None</td>\n",
              "      <td>None</td>\n",
              "      <td>65</td>\n",
              "      <td>None</td>\n",
              "      <td>None</td>\n",
              "      <td>end</td>\n",
              "      <td>no</td>\n",
              "      <td>no</td>\n",
              "      <td>negative</td>\n",
              "      <td>None</td>\n",
              "    </tr>\n",
              "    <tr>\n",
              "      <th>1</th>\n",
              "      <td>1.0</td>\n",
              "      <td>1618</td>\n",
              "      <td>39.9</td>\n",
              "      <td>22.3</td>\n",
              "      <td>23</td>\n",
              "      <td>0</td>\n",
              "      <td>0</td>\n",
              "      <td>75</td>\n",
              "      <td>no</td>\n",
              "      <td>no</td>\n",
              "      <td>end</td>\n",
              "      <td>no</td>\n",
              "      <td>no</td>\n",
              "      <td>negative</td>\n",
              "      <td>no</td>\n",
              "    </tr>\n",
              "    <tr>\n",
              "      <th>2</th>\n",
              "      <td>1.0</td>\n",
              "      <td>1437</td>\n",
              "      <td>38.9</td>\n",
              "      <td>31</td>\n",
              "      <td>None</td>\n",
              "      <td>1</td>\n",
              "      <td>0</td>\n",
              "      <td>80</td>\n",
              "      <td>no</td>\n",
              "      <td>no</td>\n",
              "      <td>front</td>\n",
              "      <td>no</td>\n",
              "      <td>no</td>\n",
              "      <td>positive</td>\n",
              "      <td>no</td>\n",
              "    </tr>\n",
              "    <tr>\n",
              "      <th>3</th>\n",
              "      <td>1.0</td>\n",
              "      <td>1280</td>\n",
              "      <td>40.6</td>\n",
              "      <td>23.6</td>\n",
              "      <td>21</td>\n",
              "      <td>0</td>\n",
              "      <td>0</td>\n",
              "      <td>57</td>\n",
              "      <td>no</td>\n",
              "      <td>no</td>\n",
              "      <td>end</td>\n",
              "      <td>no</td>\n",
              "      <td>no</td>\n",
              "      <td>negative</td>\n",
              "      <td>no</td>\n",
              "    </tr>\n",
              "    <tr>\n",
              "      <th>4</th>\n",
              "      <td>1.0</td>\n",
              "      <td>1587</td>\n",
              "      <td>40</td>\n",
              "      <td>22.1</td>\n",
              "      <td>24</td>\n",
              "      <td>0</td>\n",
              "      <td>1</td>\n",
              "      <td>64</td>\n",
              "      <td>no</td>\n",
              "      <td>no</td>\n",
              "      <td>front</td>\n",
              "      <td>no</td>\n",
              "      <td>no</td>\n",
              "      <td>negative</td>\n",
              "      <td>no</td>\n",
              "    </tr>\n",
              "  </tbody>\n",
              "</table>\n",
              "</div>"
            ],
            "text/plain": [
              "   nseg RecID Gestation  ... Bleeding_second_trimester Funneling Smoker\n",
              "0   1.0  1151      40.3  ...                        no  negative   None\n",
              "1   1.0  1618      39.9  ...                        no  negative     no\n",
              "2   1.0  1437      38.9  ...                        no  positive     no\n",
              "3   1.0  1280      40.6  ...                        no  negative     no\n",
              "4   1.0  1587        40  ...                        no  negative     no\n",
              "\n",
              "[5 rows x 15 columns]"
            ]
          },
          "metadata": {
            "tags": []
          },
          "execution_count": 13
        }
      ]
    },
    {
      "cell_type": "code",
      "metadata": {
        "id": "fYMIoFOxTsQz"
      },
      "source": [
        "df[\"Gestation\"] = pd.to_numeric(df[\"Gestation\"])"
      ],
      "execution_count": null,
      "outputs": []
    },
    {
      "cell_type": "code",
      "metadata": {
        "colab": {
          "base_uri": "https://localhost:8080/"
        },
        "id": "oKKU8JgrTuNz",
        "outputId": "e91ab0bd-7005-4bea-e6f9-4ae29abee967"
      },
      "source": [
        "df[\"Gestation\"].describe()"
      ],
      "execution_count": null,
      "outputs": [
        {
          "output_type": "execute_result",
          "data": {
            "text/plain": [
              "count    300.000000\n",
              "mean      38.997667\n",
              "std        2.167538\n",
              "min       27.700000\n",
              "25%       38.600000\n",
              "50%       39.600000\n",
              "75%       40.300000\n",
              "max       44.000000\n",
              "Name: Gestation, dtype: float64"
            ]
          },
          "metadata": {
            "tags": []
          },
          "execution_count": 15
        }
      ]
    },
    {
      "cell_type": "code",
      "metadata": {
        "colab": {
          "base_uri": "https://localhost:8080/"
        },
        "id": "UyvTiI_6Twim",
        "outputId": "a11abc2f-2c59-48ba-bcc2-b7c0411c35e0"
      },
      "source": [
        "bins = [37.000]\r\n",
        "df['term_0_preterm_1'] = np.searchsorted(bins, df['Gestation'].values)\r\n",
        "df.head()\r\n",
        "df.term_0_preterm_1.value_counts()"
      ],
      "execution_count": null,
      "outputs": [
        {
          "output_type": "execute_result",
          "data": {
            "text/plain": [
              "1    258\n",
              "0     42\n",
              "Name: term_0_preterm_1, dtype: int64"
            ]
          },
          "metadata": {
            "tags": []
          },
          "execution_count": 16
        }
      ]
    },
    {
      "cell_type": "code",
      "metadata": {
        "id": "4jtg7C3yVxYx"
      },
      "source": [
        ""
      ],
      "execution_count": null,
      "outputs": []
    },
    {
      "cell_type": "markdown",
      "metadata": {
        "id": "7w2ok6XhVW_N"
      },
      "source": [
        "## EMD"
      ]
    },
    {
      "cell_type": "code",
      "metadata": {
        "id": "G_8PgYfuVMko",
        "colab": {
          "base_uri": "https://localhost:8080/",
          "height": 265
        },
        "outputId": "d4bc334f-f21d-468a-bf2a-a2f4beb7640e"
      },
      "source": [
        "x = sig\r\n",
        "N = x.size\r\n",
        "\r\n",
        "# DFT\r\n",
        "X = np.fft.fft(x)\r\n",
        "X_db = 20*np.log10(2*np.abs(X)/N)\r\n",
        "#f = np.fft.fftfreq(N, 1/Fs)\r\n",
        "#f = np.arange(0, N)*Fs/N\r\n",
        "\r\n",
        "#plt.plot(f, X_db)\r\n",
        "plt.plot(X)\r\n",
        "plt.grid()\r\n",
        "plt.show()"
      ],
      "execution_count": null,
      "outputs": [
        {
          "output_type": "display_data",
          "data": {
            "image/png": "[encoded data removed]",
            "text/plain": [
              "<Figure size 432x288 with 1 Axes>"
            ]
          },
          "metadata": {
            "tags": [],
            "needs_background": "light"
          }
        }
      ]
    },
    {
      "cell_type": "code",
      "metadata": {
        "id": "HIHYUjBuYzmU"
      },
      "source": [
        "s = sig[1, :] "
      ],
      "execution_count": null,
      "outputs": []
    },
    {
      "cell_type": "code",
      "metadata": {
        "id": "XDe_ZdjmZAoa"
      },
      "source": [
        "emd = EMD()\r\n",
        "imfs = emd(s)"
      ],
      "execution_count": null,
      "outputs": []
    },
    {
      "cell_type": "code",
      "metadata": {
        "id": "fqy0Tl-XZDUQ"
      },
      "source": [
        "emd = EMD()\r\n",
        "emd.FIXE = 11\r\n",
        "imfs = emd(s)"
      ],
      "execution_count": null,
      "outputs": []
    },
    {
      "cell_type": "code",
      "metadata": {
        "id": "AU1UpDqVZFro",
        "colab": {
          "base_uri": "https://localhost:8080/",
          "height": 281
        },
        "outputId": "a8934fc5-02bd-4fcb-de59-0ff07dc32673"
      },
      "source": [
        "from __future__ import print_function\r\n",
        " \r\n",
        "import itertools\r\n",
        "import logging\r\n",
        "#import numpy as np\r\n",
        " \r\n",
        "from multiprocessing import Pool\r\n",
        " \r\n",
        "# Python3 handles mutliprocessing much better.\r\n",
        "# For Python2 we need to pickle instance differently.\r\n",
        "import sys\r\n",
        "if sys.version_info[0] < 3:\r\n",
        "    import copy_reg as copy_reg\r\n",
        "    import types\r\n",
        "    def _pickle_method(m):\r\n",
        "        if m.im_self is None:\r\n",
        "            return getattr, (m.im_class, m.im_func.func_name)\r\n",
        "        else:\r\n",
        "            return getattr, (m.im_self, m.im_func.func_name)\r\n",
        " \r\n",
        "    copy_reg.pickle(types.MethodType, _pickle_method)\r\n",
        " \r\n",
        " \r\n",
        "class EEMD:\r\n",
        "    \"\"\"\r\n",
        "    **Ensemble Empirical Mode Decomposition**\r\n",
        " \r\n",
        "    Ensemble empirical mode decomposition (EEMD) [Wu2009]_\r\n",
        "    is noise-assisted technique, which is meant to be more robust\r\n",
        "    than simple Empirical Mode Decomposition (EMD). The robustness is\r\n",
        "    checked by performing many decompositions on signals slightly\r\n",
        "    perturbed from their initial position. In the grand average over\r\n",
        "    all IMF results the noise will cancel each other out and the result\r\n",
        "    is pure decomposition.\r\n",
        " \r\n",
        "    Parameters\r\n",
        "    ----------\r\n",
        "    trials : int (default: 100)\r\n",
        "        Number of trials or EMD performance with added noise.\r\n",
        "    noise_width : float (default: 0.05)\r\n",
        "        Standard deviation of Gaussian noise (:math:`\\hat\\sigma`).\r\n",
        "        It's relative to absolute amplitude of the signal, i.e.\r\n",
        "        :math:`\\hat\\sigma = \\sigma\\cdot|\\max(S)-\\min(S)|`, where\r\n",
        "        :math:`\\sigma` is noise_width.\r\n",
        "    ext_EMD : EMD (default: None)\r\n",
        "        One can pass EMD object defined outside, which will be\r\n",
        "        used to compute IMF decompositions in each trial. If none\r\n",
        "        is passed then EMD with default options is used.\r\n",
        " \r\n",
        "    References\r\n",
        "    ----------\r\n",
        "    .. [Wu2009] Z. Wu and N. E. Huang, \"Ensemble empirical mode decomposition:\r\n",
        "        A noise-assisted data analysis method\", Advances in Adaptive\r\n",
        "        Data Analysis, Vol. 1, No. 1 (2009) 1-41.\r\n",
        "    \"\"\"\r\n",
        " \r\n",
        "    logger = logging.getLogger(__name__)\r\n",
        " \r\n",
        "    noise_kinds_all = [\"normal\", \"uniform\"]\r\n",
        " \r\n",
        "    def __init__(self, trials=100, noise_width=0.05, ext_EMD=None, parallel=True, **config):\r\n",
        " \r\n",
        "        # Ensemble constants\r\n",
        "        self.trials = trials\r\n",
        "        self.noise_width = noise_width\r\n",
        " \r\n",
        "        self.random = np.random.RandomState()\r\n",
        "        self.noise_kind = \"normal\"\r\n",
        "        self.parallel = parallel\r\n",
        " \r\n",
        "        if ext_EMD is None:\r\n",
        "            from PyEMD import EMD\r\n",
        "            self.EMD = EMD()\r\n",
        "        else:\r\n",
        "            self.EMD = ext_EMD\r\n",
        " \r\n",
        "        # Update based on options\r\n",
        "        for key in config.keys():\r\n",
        "            if key in self.__dict__.keys() or key == \"processes\":\r\n",
        "                self.__dict__[key] = config[key]\r\n",
        "            elif key in self.EMD.__dict__.keys():\r\n",
        "                self.EMD.__dict__[key] = config[key]\r\n",
        " \r\n",
        "    def __call__(self, S, T=None, max_imf=-1):\r\n",
        "        return self.eemd(S, T=T, max_imf=max_imf)\r\n",
        " \r\n",
        "    def __getstate__(self):\r\n",
        "        self_dict = self.__dict__.copy()\r\n",
        "        if 'pool' in self_dict:\r\n",
        "            del self_dict['pool']\r\n",
        "        return self_dict\r\n",
        " \r\n",
        "    def generate_noise(self, scale, size):\r\n",
        "        \"\"\"\r\n",
        "        Generate noise with specified parameters.\r\n",
        "        Currently supported distributions are:\r\n",
        " \r\n",
        "        * *normal* with std equal scale.\r\n",
        "        * *uniform* with range [-scale/2, scale/2].\r\n",
        " \r\n",
        "        Parameters\r\n",
        "        ----------\r\n",
        "        scale : float\r\n",
        "            Width for the distribution.\r\n",
        "        size : int\r\n",
        "            Number of generated samples.\r\n",
        " \r\n",
        "        Returns\r\n",
        "        -------\r\n",
        "        noise : numpy array\r\n",
        "            Noise sampled from selected distribution.\r\n",
        "        \"\"\"\r\n",
        " \r\n",
        "        if self.noise_kind==\"normal\":\r\n",
        "            noise = self.random.normal(loc=0, scale=scale, size=size)\r\n",
        "        elif self.noise_kind==\"uniform\":\r\n",
        "            noise = self.random.uniform(low=-scale/2, high=scale/2, size=size)\r\n",
        "        else:\r\n",
        "            raise ValueError(\"Unsupported noise kind. Please assigned `noise_kind`\"\r\n",
        "                + \" to be one of these: \" + str(self.noise_kinds_all))\r\n",
        " \r\n",
        "        return noise\r\n",
        " \r\n",
        "    def noise_seed(self, seed):\r\n",
        "        \"\"\"Set seed for noise generation.\"\"\"\r\n",
        "        self.random.seed(seed)\r\n",
        " \r\n",
        "    def eemd(self, S, T=None, max_imf=-1):\r\n",
        "        \"\"\"\r\n",
        "        Performs EEMD on provided signal.\r\n",
        " \r\n",
        "        For a large number of iterations defined by `trials` attr\r\n",
        "        the method performs :py:meth:`emd` on a signal with added white noise.\r\n",
        " \r\n",
        "        Parameters\r\n",
        "        ----------\r\n",
        "        S : numpy array,\r\n",
        "            Input signal on which EEMD is performed.\r\n",
        "        T : numpy array, (default: None)\r\n",
        "            If none passed samples are numerated.\r\n",
        "        max_imf : int, (default: -1)\r\n",
        "            Defines up to how many IMFs each decomposition should\r\n",
        "            be performed. By default (negative value) it decomposes\r\n",
        "            all IMFs.\r\n",
        " \r\n",
        "        Returns\r\n",
        "        -------\r\n",
        "        eIMF : numpy array\r\n",
        "            Set of ensemble IMFs produced from input signal. In general,\r\n",
        "            these do not have to be, and most likely will not be, same as IMFs\r\n",
        "            produced using EMD.\r\n",
        "        \"\"\"\r\n",
        "        if T is None: T = np.arange(len(S), dtype=S.dtype)\r\n",
        " \r\n",
        "        scale = self.noise_width*np.abs(np.max(S)-np.min(S))\r\n",
        "        self._S = S\r\n",
        "        self._T = T\r\n",
        "        self._N = N = len(S)\r\n",
        "        self._scale = scale\r\n",
        "        self.max_imf = max_imf\r\n",
        " \r\n",
        "        # For trial number of iterations perform EMD on a signal\r\n",
        "        # with added white noise\r\n",
        "        if self.parallel:\r\n",
        "            processes = None if \"processes\" not in self.__dict__ else self.__dict__[\"processes\"]\r\n",
        "            pool = Pool(processes=processes)\r\n",
        " \r\n",
        "            all_IMFs = pool.imap(self._trial_update, range(self.trials))\r\n",
        " \r\n",
        "            pool.close()\r\n",
        " \r\n",
        "        else:  # Not parallel\r\n",
        "            all_IMFs = map(self._trial_update, range(self.trials))\r\n",
        " \r\n",
        "        all_IMFs_1, all_IMFs_2 = itertools.tee(all_IMFs, 2)\r\n",
        " \r\n",
        "        max_imfNo = max([IMFs.shape[0] for IMFs in all_IMFs_1])\r\n",
        " \r\n",
        "        self.E_IMF = np.zeros((max_imfNo, N))\r\n",
        "        for IMFs in all_IMFs_2:\r\n",
        "            self.E_IMF[:IMFs.shape[0]] += IMFs\r\n",
        " \r\n",
        "        return self.E_IMF/self.trials\r\n",
        " \r\n",
        "    def _trial_update(self, trial):\r\n",
        "        # Generate noise\r\n",
        "        noise = self.generate_noise(self._scale, self._N)\r\n",
        "        return self.emd(self._S+noise, self._T, self.max_imf)\r\n",
        " \r\n",
        "    def emd(self, S, T, max_imf=-1):\r\n",
        "        \"\"\"Vanilla EMD method.\r\n",
        " \r\n",
        "        Provides emd evaluation from provided EMD class.\r\n",
        "        For reference please see :class:`PyEMD.EMD`.\r\n",
        "        \"\"\"\r\n",
        "        return self.EMD.emd(S, T, max_imf)\r\n",
        " \r\n",
        "###################################################\r\n",
        "## Beginning of program\r\n",
        " \r\n",
        "if __name__ == \"__main__\":\r\n",
        " \r\n",
        "    import pylab as plt\r\n",
        "    global E_imfNo\r\n",
        "    E_imfNo = np.zeros(50, dtype=np.int)\r\n",
        " \r\n",
        "    # Logging options\r\n",
        "    logging.basicConfig(level=logging.INFO)\r\n",
        " \r\n",
        "    # EEMD options\r\n",
        "    max_imf = -1\r\n",
        " \r\n",
        "    # Signal options\r\n",
        "    N = 500\r\n",
        "    tMin, tMax = 0, 2*np.pi\r\n",
        "    T = np.linspace(tMin, tMax, N)\r\n",
        " \r\n",
        "    S = 3*np.sin(4*T) + 4*np.cos(9*T) + np.sin(8.11*T+1.2)\r\n",
        " \r\n",
        "    # Prepare and run EEMD\r\n",
        "    eemd = EEMD()\r\n",
        "    eemd.trials = 50\r\n",
        "    eemd.noise_seed(12345)\r\n",
        " \r\n",
        "    E_IMFs = eemd.eemd(S, T, max_imf)\r\n",
        "    imfNo  = E_IMFs.shape[0]\r\n",
        " \r\n",
        "    # Plot results in a grid\r\n",
        "    c = np.floor(np.sqrt(imfNo+1))\r\n",
        "    r = np.ceil( (imfNo+1)/c)\r\n",
        " \r\n",
        "    plt.ioff()\r\n",
        "    plt.subplot(r,c,1)\r\n",
        "    plt.plot(T, S, 'r')\r\n",
        "    plt.xlim((tMin, tMax))\r\n",
        "    plt.title(\"Original signal\")\r\n",
        " \r\n",
        "    for num in range(imfNo):\r\n",
        "        plt.subplot(r,c,num+2)\r\n",
        "        plt.plot(T, E_IMFs[num],'g')\r\n",
        "        plt.xlim((tMin, tMax))\r\n",
        "        plt.title(\"Imf \"+str(num+1))\r\n",
        " \r\n",
        "    plt.show()"
      ],
      "execution_count": null,
      "outputs": [
        {
          "output_type": "display_data",
          "data": {
            "image/png": "[encoded data removed]",
            "text/plain": [
              "<Figure size 432x288 with 8 Axes>"
            ]
          },
          "metadata": {
            "tags": [],
            "needs_background": "light"
          }
        }
      ]
    }
  ]
}