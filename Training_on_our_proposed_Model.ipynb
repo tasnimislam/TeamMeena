{
  "nbformat": 4,
  "nbformat_minor": 0,
  "metadata": {
    "accelerator": "GPU",
    "colab": {
      "name": "Training on our proposed Model.ipynb",
      "provenance": [],
      "collapsed_sections": [
        "XAsjSB55TB86",
        "7w2ok6XhVW_N"
      ],
      "include_colab_link": true
    },
    "kernelspec": {
      "display_name": "Python 3",
      "name": "python3"
    }
  },
  "cells": [
    {
      "cell_type": "markdown",
      "metadata": {
        "id": "view-in-github",
        "colab_type": "text"
      },
      "source": [
        "<a href=\"https://colab.research.google.com/github/tasnimislam/TeamMeena/blob/main/Training_on_our_proposed_Model.ipynb\" target=\"_parent\"><img src=\"https://colab.research.google.com/assets/colab-badge.svg\" alt=\"Open In Colab\"/></a>"
      ]
    },
    {
      "cell_type": "markdown",
      "metadata": {
        "id": "ACwjUfmvPFSE"
      },
      "source": [
        "# Dataset collection\r\n",
        "The dataset used is collected from physionet naemly \"The Term-Preterm EHG Database (TPEHG DB)\" version 1.0.1\r\n",
        "https://archive.physionet.org/physiobank/database/tpehgdb/\r\n"
      ]
    },
    {
      "cell_type": "code",
      "metadata": {
        "colab": {
          "base_uri": "https://localhost:8080/"
        },
        "id": "wDj27T9HN7LW",
        "outputId": "783845be-fc38-4bd4-f6d8-fa0578ce9f13"
      },
      "source": [
        "from google.colab import drive\r\n",
        "drive.mount('/content/drive')"
      ],
      "execution_count": null,
      "outputs": [
        {
          "output_type": "stream",
          "text": [
            "Mounted at /content/drive\n"
          ],
          "name": "stdout"
        }
      ]
    },
    {
      "cell_type": "markdown",
      "metadata": {
        "id": "dVW5JtoVOTo_"
      },
      "source": [
        "# import and installation"
      ]
    },
    {
      "cell_type": "code",
      "metadata": {
        "colab": {
          "base_uri": "https://localhost:8080/"
        },
        "id": "P06XdltpORr6",
        "outputId": "9dad2b3b-6fa3-4387-8f18-6dc8856ce20f"
      },
      "source": [
        "import torch\r\n",
        "import torch.utils.data\r\n",
        "from torch import nn, optim\r\n",
        "from torch.nn import functional as F\r\n",
        "from torchvision import datasets, transforms\r\n",
        "from torchvision.utils import save_image\r\n",
        "from scipy.ndimage import filters\r\n",
        "\r\n",
        "!pip install wfdb==0.1.2\r\n",
        "import wfdb\r\n",
        "from wfdb import rdsamp\r\n",
        "import os\r\n",
        "import matplotlib.pyplot as plt\r\n",
        "from scipy.signal import find_peaks\r\n",
        "import numpy as np\r\n",
        "import random\r\n",
        "import pandas as pd\r\n",
        "from glob import glob\r\n",
        "\r\n",
        "! pip install emd\r\n",
        "! pip install EMD-signal\r\n",
        "! pip install flvlib\r\n",
        "import emd\r\n",
        "import pywt\r\n",
        "import warnings\r\n",
        "warnings.filterwarnings(\"ignore\")\r\n",
        "\r\n",
        "from PyEMD import EMD\r\n",
        "from PyEMD import EEMD\r\n",
        "\r\n",
        "\r\n",
        "from __future__ import division"
      ],
      "execution_count": null,
      "outputs": [
        {
          "output_type": "stream",
          "text": [
            "Requirement already satisfied: wfdb==0.1.2 in /usr/local/lib/python3.6/dist-packages (0.1.2)\n",
            "Requirement already satisfied: nose>=1.3.7 in /usr/local/lib/python3.6/dist-packages (from wfdb==0.1.2) (1.3.7)\n",
            "Requirement already satisfied: numpy>=1.11.0 in /usr/local/lib/python3.6/dist-packages (from wfdb==0.1.2) (1.19.5)\n",
            "Requirement already satisfied: matplotlib>=1.5.1 in /usr/local/lib/python3.6/dist-packages (from wfdb==0.1.2) (3.2.2)\n",
            "Requirement already satisfied: requests>=2.10.0 in /usr/local/lib/python3.6/dist-packages (from wfdb==0.1.2) (2.23.0)\n",
            "Requirement already satisfied: pyparsing!=2.0.4,!=2.1.2,!=2.1.6,>=2.0.1 in /usr/local/lib/python3.6/dist-packages (from matplotlib>=1.5.1->wfdb==0.1.2) (2.4.7)\n",
            "Requirement already satisfied: kiwisolver>=1.0.1 in /usr/local/lib/python3.6/dist-packages (from matplotlib>=1.5.1->wfdb==0.1.2) (1.3.1)\n",
            "Requirement already satisfied: python-dateutil>=2.1 in /usr/local/lib/python3.6/dist-packages (from matplotlib>=1.5.1->wfdb==0.1.2) (2.8.1)\n",
            "Requirement already satisfied: cycler>=0.10 in /usr/local/lib/python3.6/dist-packages (from matplotlib>=1.5.1->wfdb==0.1.2) (0.10.0)\n",
            "Requirement already satisfied: idna<3,>=2.5 in /usr/local/lib/python3.6/dist-packages (from requests>=2.10.0->wfdb==0.1.2) (2.10)\n",
            "Requirement already satisfied: urllib3!=1.25.0,!=1.25.1,<1.26,>=1.21.1 in /usr/local/lib/python3.6/dist-packages (from requests>=2.10.0->wfdb==0.1.2) (1.24.3)\n",
            "Requirement already satisfied: chardet<4,>=3.0.2 in /usr/local/lib/python3.6/dist-packages (from requests>=2.10.0->wfdb==0.1.2) (3.0.4)\n",
            "Requirement already satisfied: certifi>=2017.4.17 in /usr/local/lib/python3.6/dist-packages (from requests>=2.10.0->wfdb==0.1.2) (2020.12.5)\n",
            "Requirement already satisfied: six>=1.5 in /usr/local/lib/python3.6/dist-packages (from python-dateutil>=2.1->matplotlib>=1.5.1->wfdb==0.1.2) (1.15.0)\n",
            "Requirement already satisfied: emd in /usr/local/lib/python3.6/dist-packages (0.3.3)\n",
            "Requirement already satisfied: numpy in /usr/local/lib/python3.6/dist-packages (from emd) (1.19.5)\n",
            "Requirement already satisfied: numpydoc in /usr/local/lib/python3.6/dist-packages (from emd) (1.1.0)\n",
            "Requirement already satisfied: pyyaml in /usr/local/lib/python3.6/dist-packages (from emd) (3.13)\n",
            "Requirement already satisfied: pytest in /usr/local/lib/python3.6/dist-packages (from emd) (3.6.4)\n",
            "Requirement already satisfied: scipy in /usr/local/lib/python3.6/dist-packages (from emd) (1.4.1)\n",
            "Requirement already satisfied: sphinx-rtd-theme in /usr/local/lib/python3.6/dist-packages (from emd) (0.5.1)\n",
            "Requirement already satisfied: matplotlib in /usr/local/lib/python3.6/dist-packages (from emd) (3.2.2)\n",
            "Requirement already satisfied: Jinja2>=2.3 in /usr/local/lib/python3.6/dist-packages (from numpydoc->emd) (2.11.3)\n",
            "Requirement already satisfied: sphinx>=1.6.5 in /usr/local/lib/python3.6/dist-packages (from numpydoc->emd) (1.8.5)\n",
            "Requirement already satisfied: pluggy<0.8,>=0.5 in /usr/local/lib/python3.6/dist-packages (from pytest->emd) (0.7.1)\n",
            "Requirement already satisfied: more-itertools>=4.0.0 in /usr/local/lib/python3.6/dist-packages (from pytest->emd) (8.7.0)\n",
            "Requirement already satisfied: py>=1.5.0 in /usr/local/lib/python3.6/dist-packages (from pytest->emd) (1.10.0)\n",
            "Requirement already satisfied: atomicwrites>=1.0 in /usr/local/lib/python3.6/dist-packages (from pytest->emd) (1.4.0)\n",
            "Requirement already satisfied: setuptools in /usr/local/lib/python3.6/dist-packages (from pytest->emd) (53.0.0)\n",
            "Requirement already satisfied: six>=1.10.0 in /usr/local/lib/python3.6/dist-packages (from pytest->emd) (1.15.0)\n",
            "Requirement already satisfied: attrs>=17.4.0 in /usr/local/lib/python3.6/dist-packages (from pytest->emd) (20.3.0)\n",
            "Requirement already satisfied: python-dateutil>=2.1 in /usr/local/lib/python3.6/dist-packages (from matplotlib->emd) (2.8.1)\n",
            "Requirement already satisfied: cycler>=0.10 in /usr/local/lib/python3.6/dist-packages (from matplotlib->emd) (0.10.0)\n",
            "Requirement already satisfied: pyparsing!=2.0.4,!=2.1.2,!=2.1.6,>=2.0.1 in /usr/local/lib/python3.6/dist-packages (from matplotlib->emd) (2.4.7)\n",
            "Requirement already satisfied: kiwisolver>=1.0.1 in /usr/local/lib/python3.6/dist-packages (from matplotlib->emd) (1.3.1)\n",
            "Requirement already satisfied: MarkupSafe>=0.23 in /usr/local/lib/python3.6/dist-packages (from Jinja2>=2.3->numpydoc->emd) (1.1.1)\n",
            "Requirement already satisfied: requests>=2.0.0 in /usr/local/lib/python3.6/dist-packages (from sphinx>=1.6.5->numpydoc->emd) (2.23.0)\n",
            "Requirement already satisfied: babel!=2.0,>=1.3 in /usr/local/lib/python3.6/dist-packages (from sphinx>=1.6.5->numpydoc->emd) (2.9.0)\n",
            "Requirement already satisfied: snowballstemmer>=1.1 in /usr/local/lib/python3.6/dist-packages (from sphinx>=1.6.5->numpydoc->emd) (2.1.0)\n",
            "Requirement already satisfied: docutils>=0.11 in /usr/local/lib/python3.6/dist-packages (from sphinx>=1.6.5->numpydoc->emd) (0.16)\n",
            "Requirement already satisfied: Pygments>=2.0 in /usr/local/lib/python3.6/dist-packages (from sphinx>=1.6.5->numpydoc->emd) (2.6.1)\n",
            "Requirement already satisfied: sphinxcontrib-websupport in /usr/local/lib/python3.6/dist-packages (from sphinx>=1.6.5->numpydoc->emd) (1.2.4)\n",
            "Requirement already satisfied: alabaster<0.8,>=0.7 in /usr/local/lib/python3.6/dist-packages (from sphinx>=1.6.5->numpydoc->emd) (0.7.12)\n",
            "Requirement already satisfied: packaging in /usr/local/lib/python3.6/dist-packages (from sphinx>=1.6.5->numpydoc->emd) (20.9)\n",
            "Requirement already satisfied: imagesize in /usr/local/lib/python3.6/dist-packages (from sphinx>=1.6.5->numpydoc->emd) (1.2.0)\n",
            "Requirement already satisfied: urllib3!=1.25.0,!=1.25.1,<1.26,>=1.21.1 in /usr/local/lib/python3.6/dist-packages (from requests>=2.0.0->sphinx>=1.6.5->numpydoc->emd) (1.24.3)\n",
            "Requirement already satisfied: chardet<4,>=3.0.2 in /usr/local/lib/python3.6/dist-packages (from requests>=2.0.0->sphinx>=1.6.5->numpydoc->emd) (3.0.4)\n",
            "Requirement already satisfied: idna<3,>=2.5 in /usr/local/lib/python3.6/dist-packages (from requests>=2.0.0->sphinx>=1.6.5->numpydoc->emd) (2.10)\n",
            "Requirement already satisfied: certifi>=2017.4.17 in /usr/local/lib/python3.6/dist-packages (from requests>=2.0.0->sphinx>=1.6.5->numpydoc->emd) (2020.12.5)\n",
            "Requirement already satisfied: pytz>=2015.7 in /usr/local/lib/python3.6/dist-packages (from babel!=2.0,>=1.3->sphinx>=1.6.5->numpydoc->emd) (2018.9)\n",
            "Requirement already satisfied: sphinxcontrib-serializinghtml in /usr/local/lib/python3.6/dist-packages (from sphinxcontrib-websupport->sphinx>=1.6.5->numpydoc->emd) (1.1.4)\n",
            "Requirement already satisfied: EMD-signal in /usr/local/lib/python3.6/dist-packages (0.2.13)\n",
            "Requirement already satisfied: pathos>=0.2.1 in /usr/local/lib/python3.6/dist-packages (from EMD-signal) (0.2.7)\n",
            "Requirement already satisfied: scipy>=0.19 in /usr/local/lib/python3.6/dist-packages (from EMD-signal) (1.4.1)\n",
            "Requirement already satisfied: numpydoc in /usr/local/lib/python3.6/dist-packages (from EMD-signal) (1.1.0)\n",
            "Requirement already satisfied: numpy>=1.12 in /usr/local/lib/python3.6/dist-packages (from EMD-signal) (1.19.5)\n",
            "Requirement already satisfied: pox>=0.2.9 in /usr/local/lib/python3.6/dist-packages (from pathos>=0.2.1->EMD-signal) (0.2.9)\n",
            "Requirement already satisfied: multiprocess>=0.70.11 in /usr/local/lib/python3.6/dist-packages (from pathos>=0.2.1->EMD-signal) (0.70.11.1)\n",
            "Requirement already satisfied: ppft>=1.6.6.3 in /usr/local/lib/python3.6/dist-packages (from pathos>=0.2.1->EMD-signal) (1.6.6.3)\n",
            "Requirement already satisfied: dill>=0.3.3 in /usr/local/lib/python3.6/dist-packages (from pathos>=0.2.1->EMD-signal) (0.3.3)\n",
            "Requirement already satisfied: sphinx>=1.6.5 in /usr/local/lib/python3.6/dist-packages (from numpydoc->EMD-signal) (1.8.5)\n",
            "Requirement already satisfied: Jinja2>=2.3 in /usr/local/lib/python3.6/dist-packages (from numpydoc->EMD-signal) (2.11.3)\n",
            "Requirement already satisfied: six>=1.7.3 in /usr/local/lib/python3.6/dist-packages (from ppft>=1.6.6.3->pathos>=0.2.1->EMD-signal) (1.15.0)\n",
            "Requirement already satisfied: imagesize in /usr/local/lib/python3.6/dist-packages (from sphinx>=1.6.5->numpydoc->EMD-signal) (1.2.0)\n",
            "Requirement already satisfied: docutils>=0.11 in /usr/local/lib/python3.6/dist-packages (from sphinx>=1.6.5->numpydoc->EMD-signal) (0.16)\n",
            "Requirement already satisfied: alabaster<0.8,>=0.7 in /usr/local/lib/python3.6/dist-packages (from sphinx>=1.6.5->numpydoc->EMD-signal) (0.7.12)\n",
            "Requirement already satisfied: setuptools in /usr/local/lib/python3.6/dist-packages (from sphinx>=1.6.5->numpydoc->EMD-signal) (53.0.0)\n",
            "Requirement already satisfied: snowballstemmer>=1.1 in /usr/local/lib/python3.6/dist-packages (from sphinx>=1.6.5->numpydoc->EMD-signal) (2.1.0)\n",
            "Requirement already satisfied: Pygments>=2.0 in /usr/local/lib/python3.6/dist-packages (from sphinx>=1.6.5->numpydoc->EMD-signal) (2.6.1)\n",
            "Requirement already satisfied: sphinxcontrib-websupport in /usr/local/lib/python3.6/dist-packages (from sphinx>=1.6.5->numpydoc->EMD-signal) (1.2.4)\n",
            "Requirement already satisfied: babel!=2.0,>=1.3 in /usr/local/lib/python3.6/dist-packages (from sphinx>=1.6.5->numpydoc->EMD-signal) (2.9.0)\n",
            "Requirement already satisfied: requests>=2.0.0 in /usr/local/lib/python3.6/dist-packages (from sphinx>=1.6.5->numpydoc->EMD-signal) (2.23.0)\n",
            "Requirement already satisfied: packaging in /usr/local/lib/python3.6/dist-packages (from sphinx>=1.6.5->numpydoc->EMD-signal) (20.9)\n",
            "Requirement already satisfied: MarkupSafe>=0.23 in /usr/local/lib/python3.6/dist-packages (from Jinja2>=2.3->numpydoc->EMD-signal) (1.1.1)\n",
            "Requirement already satisfied: sphinxcontrib-serializinghtml in /usr/local/lib/python3.6/dist-packages (from sphinxcontrib-websupport->sphinx>=1.6.5->numpydoc->EMD-signal) (1.1.4)\n",
            "Requirement already satisfied: pytz>=2015.7 in /usr/local/lib/python3.6/dist-packages (from babel!=2.0,>=1.3->sphinx>=1.6.5->numpydoc->EMD-signal) (2018.9)\n",
            "Requirement already satisfied: certifi>=2017.4.17 in /usr/local/lib/python3.6/dist-packages (from requests>=2.0.0->sphinx>=1.6.5->numpydoc->EMD-signal) (2020.12.5)\n",
            "Requirement already satisfied: urllib3!=1.25.0,!=1.25.1,<1.26,>=1.21.1 in /usr/local/lib/python3.6/dist-packages (from requests>=2.0.0->sphinx>=1.6.5->numpydoc->EMD-signal) (1.24.3)\n",
            "Requirement already satisfied: idna<3,>=2.5 in /usr/local/lib/python3.6/dist-packages (from requests>=2.0.0->sphinx>=1.6.5->numpydoc->EMD-signal) (2.10)\n",
            "Requirement already satisfied: chardet<4,>=3.0.2 in /usr/local/lib/python3.6/dist-packages (from requests>=2.0.0->sphinx>=1.6.5->numpydoc->EMD-signal) (3.0.4)\n",
            "Requirement already satisfied: pyparsing>=2.0.2 in /usr/local/lib/python3.6/dist-packages (from packaging->sphinx>=1.6.5->numpydoc->EMD-signal) (2.4.7)\n",
            "Requirement already satisfied: flvlib in /usr/local/lib/python3.6/dist-packages (0.1.13)\n"
          ],
          "name": "stdout"
        }
      ]
    },
    {
      "cell_type": "code",
      "metadata": {
        "id": "gkVr12f2beYS"
      },
      "source": [
        "import tensorflow as tf\r\n",
        "from keras.models import Sequential\r\n",
        "from keras.layers import Conv1D, MaxPooling1D, Dense, Dropout, Input, Flatten, SeparableConv1D\r\n",
        "from keras.layers import GlobalMaxPooling1D, GlobalAveragePooling1D, multiply, AveragePooling1D, concatenate\r\n",
        "from keras.layers.normalization import BatchNormalization\r\n",
        "from keras.layers.merge import Concatenate\r\n",
        " \r\n",
        "from keras.models import Model\r\n",
        "import keras\r\n",
        "from keras import backend as K\r\n",
        "from keras.optimizers import Adam, SGD\r\n",
        "from keras.callbacks import LearningRateScheduler, ModelCheckpoint\r\n",
        "\r\n",
        "from keras.preprocessing.image import load_img\r\n",
        "from keras import Model\r\n",
        "from keras.callbacks import  ModelCheckpoint\r\n",
        "from keras.layers import *\r\n",
        "from keras.utils import plot_model\r\n",
        "from keras import layers\r\n",
        "from keras.preprocessing.image import ImageDataGenerator\r\n",
        "from keras.optimizers import *\r\n",
        "from keras.callbacks import *\r\n"
      ],
      "execution_count": null,
      "outputs": []
    },
    {
      "cell_type": "code",
      "metadata": {
        "id": "4U57jdGEbOCf"
      },
      "source": [
        "def build_model():\r\n",
        "    input_sig = Input(shape =(35360, 1), name='SignalInput')  #None,35360,1\r\n",
        "    x = Conv1D (64, 10, activation='relu', padding='same', name='Conv1_1')(input_sig)\r\n",
        "    x = Conv1D(64, 10, activation='relu', padding='same', name='Conv1_2')(x)\r\n",
        "    x = MaxPooling1D(2, name='pool1')(x)\r\n",
        "    \r\n",
        "    x = Conv1D(64, 10, activation='relu', padding='same', name='Conv2_1')(x)\r\n",
        "    x = Conv1D(64, 10, activation='relu', padding='same', name='Conv2_2')(x)\r\n",
        "    x = MaxPooling1D(2, name='pool2')(x)\r\n",
        "    \r\n",
        "    x = Conv1D(128, 10, activation='relu', padding='same', name='Conv3_1')(x)\r\n",
        "    x = BatchNormalization(name='bn1')(x)\r\n",
        "    x = MaxPooling1D(4, name='pool3', data_format='channels_first')(x)\r\n",
        "    x = Conv1D(128, 10, activation='relu', padding='same', name='Conv3_2')(x)\r\n",
        "    x = BatchNormalization(name='bn2')(x)\r\n",
        "    x = MaxPooling1D(4, name='pool4')(x)\r\n",
        "    \r\n",
        "    # x = Conv1D(64, 3, activation='relu', padding='same', name='Conv3_3')(x)\r\n",
        "    # x = MaxPooling1D(2, name='pool5', data_format='channels_first')(x)\r\n",
        "    x = GlobalAveragePooling1D(name='GAP')(x)\r\n",
        "  \r\n",
        "    \r\n",
        "    #x = Flatten(name='flatten')(x)\r\n",
        "    x = Dense(128, activation=LeakyReLU(alpha=0.1), name='fc1')(x)\r\n",
        "    #x = Dropout(0.35, name='dropout1')(x)\r\n",
        "    x = Dense(32, name='fc2')(x)\r\n",
        "    #x = Dropout(0.2, name='dropout2')(x)\r\n",
        "    x = Dense(1, activation='sigmoid', name='fc3')(x)\r\n",
        "    \r\n",
        "    model = Model(inputs=input_sig, outputs=x)\r\n",
        "    model.compile(optimizer=Adam(lr=1e-4), loss='binary_crossentropy', metrics=['accuracy'])\r\n",
        "    return model"
      ],
      "execution_count": null,
      "outputs": []
    },
    {
      "cell_type": "code",
      "metadata": {
        "colab": {
          "base_uri": "https://localhost:8080/"
        },
        "id": "e2Fo0swWKeQF",
        "outputId": "500b4f5c-6a91-4713-fe19-e2a988e539ab"
      },
      "source": [
        "model =  build_model()\r\n",
        "model.summary()"
      ],
      "execution_count": null,
      "outputs": [
        {
          "output_type": "stream",
          "text": [
            "Model: \"model\"\n",
            "_________________________________________________________________\n",
            "Layer (type)                 Output Shape              Param #   \n",
            "=================================================================\n",
            "SignalInput (InputLayer)     [(None, 35360, 1)]        0         \n",
            "_________________________________________________________________\n",
            "Conv1_1 (Conv1D)             (None, 35360, 64)         704       \n",
            "_________________________________________________________________\n",
            "Conv1_2 (Conv1D)             (None, 35360, 64)         41024     \n",
            "_________________________________________________________________\n",
            "pool1 (MaxPooling1D)         (None, 17680, 64)         0         \n",
            "_________________________________________________________________\n",
            "Conv2_1 (Conv1D)             (None, 17680, 64)         41024     \n",
            "_________________________________________________________________\n",
            "Conv2_2 (Conv1D)             (None, 17680, 64)         41024     \n",
            "_________________________________________________________________\n",
            "pool2 (MaxPooling1D)         (None, 8840, 64)          0         \n",
            "_________________________________________________________________\n",
            "Conv3_1 (Conv1D)             (None, 8840, 128)         82048     \n",
            "_________________________________________________________________\n",
            "bn1 (BatchNormalization)     (None, 8840, 128)         512       \n",
            "_________________________________________________________________\n",
            "pool3 (MaxPooling1D)         (None, 8840, 32)          0         \n",
            "_________________________________________________________________\n",
            "Conv3_2 (Conv1D)             (None, 8840, 128)         41088     \n",
            "_________________________________________________________________\n",
            "bn2 (BatchNormalization)     (None, 8840, 128)         512       \n",
            "_________________________________________________________________\n",
            "pool4 (MaxPooling1D)         (None, 2210, 128)         0         \n",
            "_________________________________________________________________\n",
            "GAP (GlobalAveragePooling1D) (None, 128)               0         \n",
            "_________________________________________________________________\n",
            "fc1 (Dense)                  (None, 128)               16512     \n",
            "_________________________________________________________________\n",
            "fc2 (Dense)                  (None, 32)                4128      \n",
            "_________________________________________________________________\n",
            "fc3 (Dense)                  (None, 1)                 33        \n",
            "=================================================================\n",
            "Total params: 268,609\n",
            "Trainable params: 268,097\n",
            "Non-trainable params: 512\n",
            "_________________________________________________________________\n"
          ],
          "name": "stdout"
        }
      ]
    },
    {
      "cell_type": "markdown",
      "metadata": {
        "id": "zgokL9jUL7sj"
      },
      "source": [
        "## Make input data"
      ]
    },
    {
      "cell_type": "code",
      "metadata": {
        "id": "JqcMEy-XfXmb"
      },
      "source": [
        "keras_input = pd.DataFrame()"
      ],
      "execution_count": null,
      "outputs": []
    },
    {
      "cell_type": "code",
      "metadata": {
        "colab": {
          "base_uri": "https://localhost:8080/",
          "height": 204
        },
        "id": "hTD3D8AEedLN",
        "outputId": "0c4f599e-d7d1-4947-bbf1-6fcbe523c18d"
      },
      "source": [
        "file = open(\"/content/drive/MyDrive/mmg_dataset_v2/fvl files/0_3 theke 3 hertz.txt\")\r\n",
        "i = 0\r\n",
        "# Record   | Chann | Gestation | Rec. time |   Group   |   RMS   |  Fmed  | Fpeak  | Samp. en. | Premature | Early \r\n",
        "for line in file:\r\n",
        "  if i<2:\r\n",
        "    i+=1\r\n",
        "    continue\r\n",
        "  line = line.split(\"|\")\r\n",
        "\r\n",
        "  keras_input.at[i, \"Record\"] = line[0]\r\n",
        "  keras_input.at[i, \"Channel_no\"] = line[1]\r\n",
        "  keras_input.at[i, \"Gestation\"] = line[2]\r\n",
        "  keras_input.at[i, \"Record_time\"] = line[3]\r\n",
        "  keras_input.at[i, \"RMS\"] = line[5]\r\n",
        "  keras_input.at[i, \"Fmed\"] = line[6]\r\n",
        "  keras_input.at[i, \"Fpeak\"] = line[7]\r\n",
        "  keras_input.at[i, \"Samp. en.\"] = line[8]\r\n",
        "  keras_input.at[i, \"Premature\"] = line[9]\r\n",
        "  keras_input.at[i, \"Early\"] = line[10][:-1]\r\n",
        "  i +=1\r\n",
        "keras_input.head()"
      ],
      "execution_count": null,
      "outputs": [
        {
          "output_type": "execute_result",
          "data": {
            "text/html": [
              "<div>\n",
              "<style scoped>\n",
              "    .dataframe tbody tr th:only-of-type {\n",
              "        vertical-align: middle;\n",
              "    }\n",
              "\n",
              "    .dataframe tbody tr th {\n",
              "        vertical-align: top;\n",
              "    }\n",
              "\n",
              "    .dataframe thead th {\n",
              "        text-align: right;\n",
              "    }\n",
              "</style>\n",
              "<table border=\"1\" class=\"dataframe\">\n",
              "  <thead>\n",
              "    <tr style=\"text-align: right;\">\n",
              "      <th></th>\n",
              "      <th>Record</th>\n",
              "      <th>Channel_no</th>\n",
              "      <th>Gestation</th>\n",
              "      <th>Record_time</th>\n",
              "      <th>RMS</th>\n",
              "      <th>Fmed</th>\n",
              "      <th>Fpeak</th>\n",
              "      <th>Samp. en.</th>\n",
              "      <th>Premature</th>\n",
              "      <th>Early</th>\n",
              "    </tr>\n",
              "  </thead>\n",
              "  <tbody>\n",
              "    <tr>\n",
              "      <th>2</th>\n",
              "      <td>tpehg1007</td>\n",
              "      <td>1</td>\n",
              "      <td>35.00</td>\n",
              "      <td>31.29</td>\n",
              "      <td>16.5069</td>\n",
              "      <td>0.3688</td>\n",
              "      <td>0.3324</td>\n",
              "      <td>0.5180</td>\n",
              "      <td>t</td>\n",
              "      <td>f</td>\n",
              "    </tr>\n",
              "    <tr>\n",
              "      <th>3</th>\n",
              "      <td>tpehg1007</td>\n",
              "      <td>2</td>\n",
              "      <td>35.00</td>\n",
              "      <td>31.29</td>\n",
              "      <td>16.9946</td>\n",
              "      <td>0.3688</td>\n",
              "      <td>0.3159</td>\n",
              "      <td>0.3810</td>\n",
              "      <td>t</td>\n",
              "      <td>f</td>\n",
              "    </tr>\n",
              "    <tr>\n",
              "      <th>4</th>\n",
              "      <td>tpehg1007</td>\n",
              "      <td>3</td>\n",
              "      <td>35.00</td>\n",
              "      <td>31.29</td>\n",
              "      <td>8.4198</td>\n",
              "      <td>0.3981</td>\n",
              "      <td>0.2938</td>\n",
              "      <td>0.5640</td>\n",
              "      <td>t</td>\n",
              "      <td>f</td>\n",
              "    </tr>\n",
              "    <tr>\n",
              "      <th>5</th>\n",
              "      <td>tpehg1021</td>\n",
              "      <td>1</td>\n",
              "      <td>38.57</td>\n",
              "      <td>22.29</td>\n",
              "      <td>14.4062</td>\n",
              "      <td>0.4170</td>\n",
              "      <td>0.3828</td>\n",
              "      <td>0.4460</td>\n",
              "      <td>f</td>\n",
              "      <td>t</td>\n",
              "    </tr>\n",
              "    <tr>\n",
              "      <th>6</th>\n",
              "      <td>tpehg1021</td>\n",
              "      <td>2</td>\n",
              "      <td>38.57</td>\n",
              "      <td>22.29</td>\n",
              "      <td>12.3715</td>\n",
              "      <td>0.4120</td>\n",
              "      <td>0.3136</td>\n",
              "      <td>0.4370</td>\n",
              "      <td>f</td>\n",
              "      <td>t</td>\n",
              "    </tr>\n",
              "  </tbody>\n",
              "</table>\n",
              "</div>"
            ],
            "text/plain": [
              "        Record Channel_no    Gestation  ...    Samp. en.    Premature Early\n",
              "2   tpehg1007          1        35.00   ...      0.5180    t              f\n",
              "3   tpehg1007          2        35.00   ...      0.3810    t              f\n",
              "4   tpehg1007          3        35.00   ...      0.5640    t              f\n",
              "5   tpehg1021          1        38.57   ...      0.4460    f              t\n",
              "6   tpehg1021          2        38.57   ...      0.4370    f              t\n",
              "\n",
              "[5 rows x 10 columns]"
            ]
          },
          "metadata": {
            "tags": []
          },
          "execution_count": 9
        }
      ]
    },
    {
      "cell_type": "code",
      "metadata": {
        "id": "yl5_eXXOsLO3"
      },
      "source": [
        "keras_input[\"Channel_no\"] = keras_input.Channel_no.astype(\"int64\")"
      ],
      "execution_count": null,
      "outputs": []
    },
    {
      "cell_type": "code",
      "metadata": {
        "colab": {
          "base_uri": "https://localhost:8080/"
        },
        "id": "XOl3Lh7Zkz8d",
        "outputId": "8c2df84e-293e-44d5-c50d-0416da43b10e"
      },
      "source": [
        "print(len(keras_input))"
      ],
      "execution_count": null,
      "outputs": [
        {
          "output_type": "stream",
          "text": [
            "900\n"
          ],
          "name": "stdout"
        }
      ]
    },
    {
      "cell_type": "code",
      "metadata": {
        "id": "JbQybgBhxbYu"
      },
      "source": [
        "listi = list(keras_input.columns)"
      ],
      "execution_count": null,
      "outputs": []
    },
    {
      "cell_type": "code",
      "metadata": {
        "colab": {
          "base_uri": "https://localhost:8080/"
        },
        "id": "_zzEqaTrLy6H",
        "outputId": "ec88184b-5772-4680-aa67-9a07e340b7bd"
      },
      "source": [
        "dat_file = glob(\"/content/drive/MyDrive/mmg_dataset_v2/term-preterm-ehg-database-1.0.1.zip (Unzipped Files)/term-preterm-ehg-database-1.0.1/tpehgdb/*.dat\")\r\n",
        "hea_file = glob(\"/content/drive/MyDrive/mmg_dataset_v2/term-preterm-ehg-database-1.0.1.zip (Unzipped Files)/term-preterm-ehg-database-1.0.1/tpehgdb/*.hea\")\r\n",
        "print(len(dat_file))\r\n",
        "print(len(hea_file))"
      ],
      "execution_count": null,
      "outputs": [
        {
          "output_type": "stream",
          "text": [
            "300\n",
            "300\n"
          ],
          "name": "stdout"
        }
      ]
    },
    {
      "cell_type": "code",
      "metadata": {
        "id": "seG-OvLiwSEm"
      },
      "source": [
        "signals = []\r\n",
        "classi_list = []\r\n",
        "read_file_dir = \"/content/drive/MyDrive/mmg_dataset_v2/term-preterm-ehg-database-1.0.1.zip (Unzipped Files)/term-preterm-ehg-database-1.0.1/tpehgdb\"\r\n",
        "for i in range(len(keras_input)):\r\n",
        "  record_name = keras_input.iloc[i][\"Record\"]\r\n",
        "  record_name = os.path.join(read_file_dir, record_name + \".hea\")\r\n",
        "  sig, fields = rdsamp(hea_file[0][:-4], sampfrom=0, sampto=[], channels=[], physical=1, stacksegments=1, pbdl=0, keepfiles=0)\r\n",
        "  if keras_input.iloc[i][\"Channel_no\"] == 1.0: signal = sig[:,2] \r\n",
        "  if keras_input.iloc[i][\"Channel_no\"] == 2.0: signal = sig[:,6]\r\n",
        "  if keras_input.iloc[i][\"Channel_no\"] == 3.0: signal = sig[:,10]\r\n",
        "  if keras_input.iloc[i][\"Premature\"]== keras_input.iloc[0][\"Premature\"]: classi = 0\r\n",
        "  if keras_input.iloc[i][\"Premature\"]==keras_input.iloc[3][\"Premature\"]: classi = 1\r\n",
        "  signals.append(signal)\r\n",
        "  classi_list.append(classi)\r\n",
        "  #if i==10: break"
      ],
      "execution_count": null,
      "outputs": []
    },
    {
      "cell_type": "code",
      "metadata": {
        "colab": {
          "base_uri": "https://localhost:8080/"
        },
        "id": "WwWC3P2iF9SJ",
        "outputId": "8256f4c5-2697-41c4-ce5c-69140e91fb2d"
      },
      "source": [
        "train_sig=np.asarray(signals)\r\n",
        "train_sig.shape"
      ],
      "execution_count": null,
      "outputs": [
        {
          "output_type": "execute_result",
          "data": {
            "text/plain": [
              "(900, 35360)"
            ]
          },
          "metadata": {
            "tags": []
          },
          "execution_count": 18
        }
      ]
    },
    {
      "cell_type": "code",
      "metadata": {
        "colab": {
          "base_uri": "https://localhost:8080/"
        },
        "id": "s89CsVU6b7cG",
        "outputId": "3a00441a-3800-41fe-98ff-f508be893fb1"
      },
      "source": [
        "train_sig = np.reshape(train_sig, (900, -1, 1))\r\n",
        "train_sig.shape"
      ],
      "execution_count": null,
      "outputs": [
        {
          "output_type": "execute_result",
          "data": {
            "text/plain": [
              "(900, 35360, 1)"
            ]
          },
          "metadata": {
            "tags": []
          },
          "execution_count": 19
        }
      ]
    },
    {
      "cell_type": "code",
      "metadata": {
        "id": "7dLpQBbxc_gf"
      },
      "source": [
        "Y = np.reshape(np.array(classi_list),(900,1))\r\n",
        "Y.shape"
      ],
      "execution_count": null,
      "outputs": []
    },
    {
      "cell_type": "code",
      "metadata": {
        "colab": {
          "base_uri": "https://localhost:8080/"
        },
        "id": "J3GBgMn5riWp",
        "outputId": "91aec3fc-2b1e-42ef-a38a-0a97fe5b0468"
      },
      "source": [
        "from keras.callbacks import *\r\n",
        "\r\n",
        "weight_saver = ModelCheckpoint('Run_1.h5', monitor='accuracy', \r\n",
        "                                save_best_only=True, save_weights_only=True)\r\n",
        "annealer = ReduceLROnPlateau(monitor='val_loss', factor=0.5,\r\n",
        "                              patience=5, min_lr=0.0001)\r\n",
        "hist = model.fit(x = train_sig , \r\n",
        "                          y = Y, \r\n",
        "                          batch_size = 16,\r\n",
        "                          epochs = 100,\r\n",
        "                          callbacks = [weight_saver , annealer],\r\n",
        "                          validation_split = 0.2,\r\n",
        "                          shuffle = True,\r\n",
        "                          verbose = 1)\r\n"
      ],
      "execution_count": null,
      "outputs": [
        {
          "output_type": "stream",
          "text": [
            "Epoch 1/100\n",
            "45/45 [==============================] - 13s 129ms/step - loss: 0.5880 - accuracy: 0.8089 - val_loss: 0.6551 - val_accuracy: 0.8833\n",
            "Epoch 2/100\n",
            "45/45 [==============================] - 5s 122ms/step - loss: 0.3978 - accuracy: 0.8708 - val_loss: 0.6441 - val_accuracy: 0.8833\n",
            "Epoch 3/100\n",
            "45/45 [==============================] - 5s 122ms/step - loss: 0.4190 - accuracy: 0.8581 - val_loss: 0.6397 - val_accuracy: 0.8833\n",
            "Epoch 4/100\n",
            "45/45 [==============================] - 5s 122ms/step - loss: 0.4327 - accuracy: 0.8501 - val_loss: 0.6392 - val_accuracy: 0.8833\n",
            "Epoch 5/100\n",
            "45/45 [==============================] - 5s 122ms/step - loss: 0.4227 - accuracy: 0.8505 - val_loss: 0.6365 - val_accuracy: 0.8833\n",
            "Epoch 6/100\n",
            "45/45 [==============================] - 5s 122ms/step - loss: 0.3597 - accuracy: 0.8870 - val_loss: 0.6307 - val_accuracy: 0.8833\n",
            "Epoch 7/100\n",
            "45/45 [==============================] - 5s 122ms/step - loss: 0.3913 - accuracy: 0.8678 - val_loss: 0.6197 - val_accuracy: 0.8833\n",
            "Epoch 8/100\n",
            "45/45 [==============================] - 6s 123ms/step - loss: 0.3207 - accuracy: 0.9024 - val_loss: 0.6348 - val_accuracy: 0.8833\n",
            "Epoch 9/100\n",
            "45/45 [==============================] - 5s 122ms/step - loss: 0.3536 - accuracy: 0.8965 - val_loss: 0.6248 - val_accuracy: 0.8833\n",
            "Epoch 10/100\n",
            "45/45 [==============================] - 5s 122ms/step - loss: 0.4022 - accuracy: 0.8663 - val_loss: 0.5599 - val_accuracy: 0.8833\n",
            "Epoch 11/100\n",
            "45/45 [==============================] - 5s 122ms/step - loss: 0.3804 - accuracy: 0.8735 - val_loss: 0.5302 - val_accuracy: 0.8833\n",
            "Epoch 12/100\n",
            "45/45 [==============================] - 5s 122ms/step - loss: 0.3794 - accuracy: 0.8739 - val_loss: 0.5323 - val_accuracy: 0.8833\n",
            "Epoch 13/100\n",
            "45/45 [==============================] - 5s 122ms/step - loss: 0.3690 - accuracy: 0.8800 - val_loss: 0.4972 - val_accuracy: 0.8833\n",
            "Epoch 14/100\n",
            "45/45 [==============================] - 5s 122ms/step - loss: 0.3780 - accuracy: 0.8767 - val_loss: 0.4794 - val_accuracy: 0.8833\n",
            "Epoch 15/100\n",
            "45/45 [==============================] - 5s 122ms/step - loss: 0.3768 - accuracy: 0.8774 - val_loss: 0.4521 - val_accuracy: 0.8833\n",
            "Epoch 16/100\n",
            "45/45 [==============================] - 6s 123ms/step - loss: 0.3942 - accuracy: 0.8660 - val_loss: 0.3815 - val_accuracy: 0.8833\n",
            "Epoch 17/100\n",
            "45/45 [==============================] - 5s 122ms/step - loss: 0.3912 - accuracy: 0.8682 - val_loss: 0.3749 - val_accuracy: 0.8833\n",
            "Epoch 18/100\n",
            "45/45 [==============================] - 5s 122ms/step - loss: 0.3407 - accuracy: 0.8944 - val_loss: 0.4752 - val_accuracy: 0.8833\n",
            "Epoch 19/100\n",
            "45/45 [==============================] - 5s 122ms/step - loss: 0.3721 - accuracy: 0.8814 - val_loss: 0.3633 - val_accuracy: 0.8833\n",
            "Epoch 20/100\n",
            "45/45 [==============================] - 5s 122ms/step - loss: 0.3851 - accuracy: 0.8724 - val_loss: 0.3655 - val_accuracy: 0.8833\n",
            "Epoch 21/100\n",
            "45/45 [==============================] - 6s 125ms/step - loss: 0.4006 - accuracy: 0.8633 - val_loss: 0.3648 - val_accuracy: 0.8833\n",
            "Epoch 22/100\n",
            "45/45 [==============================] - 6s 123ms/step - loss: 0.3902 - accuracy: 0.8686 - val_loss: 0.3973 - val_accuracy: 0.8833\n",
            "Epoch 23/100\n",
            "45/45 [==============================] - 5s 122ms/step - loss: 0.4053 - accuracy: 0.8602 - val_loss: 0.3891 - val_accuracy: 0.8833\n",
            "Epoch 24/100\n",
            "45/45 [==============================] - 5s 122ms/step - loss: 0.3777 - accuracy: 0.8772 - val_loss: 0.3610 - val_accuracy: 0.8833\n",
            "Epoch 25/100\n",
            "45/45 [==============================] - 5s 122ms/step - loss: 0.3942 - accuracy: 0.8678 - val_loss: 0.3729 - val_accuracy: 0.8833\n",
            "Epoch 26/100\n",
            "45/45 [==============================] - 5s 122ms/step - loss: 0.3846 - accuracy: 0.8715 - val_loss: 0.3610 - val_accuracy: 0.8833\n",
            "Epoch 27/100\n",
            "45/45 [==============================] - 5s 122ms/step - loss: 0.3699 - accuracy: 0.8801 - val_loss: 0.3643 - val_accuracy: 0.8833\n",
            "Epoch 28/100\n",
            "45/45 [==============================] - 5s 122ms/step - loss: 0.3899 - accuracy: 0.8685 - val_loss: 0.3679 - val_accuracy: 0.8833\n",
            "Epoch 29/100\n",
            "45/45 [==============================] - 5s 122ms/step - loss: 0.3552 - accuracy: 0.8875 - val_loss: 0.4084 - val_accuracy: 0.8833\n",
            "Epoch 30/100\n",
            "45/45 [==============================] - 6s 123ms/step - loss: 0.3682 - accuracy: 0.8810 - val_loss: 0.3696 - val_accuracy: 0.8833\n",
            "Epoch 31/100\n",
            "45/45 [==============================] - 5s 122ms/step - loss: 0.3710 - accuracy: 0.8773 - val_loss: 0.3640 - val_accuracy: 0.8833\n",
            "Epoch 32/100\n",
            "45/45 [==============================] - 5s 122ms/step - loss: 0.4187 - accuracy: 0.8537 - val_loss: 0.3626 - val_accuracy: 0.8833\n",
            "Epoch 33/100\n",
            "45/45 [==============================] - 5s 122ms/step - loss: 0.3897 - accuracy: 0.8691 - val_loss: 0.3629 - val_accuracy: 0.8833\n",
            "Epoch 34/100\n",
            "45/45 [==============================] - 5s 122ms/step - loss: 0.3910 - accuracy: 0.8684 - val_loss: 0.3636 - val_accuracy: 0.8833\n",
            "Epoch 35/100\n",
            "45/45 [==============================] - 6s 122ms/step - loss: 0.3825 - accuracy: 0.8728 - val_loss: 0.3609 - val_accuracy: 0.8833\n",
            "Epoch 36/100\n",
            "45/45 [==============================] - 5s 122ms/step - loss: 0.3757 - accuracy: 0.8762 - val_loss: 0.3875 - val_accuracy: 0.8833\n",
            "Epoch 37/100\n",
            "45/45 [==============================] - 5s 122ms/step - loss: 0.3565 - accuracy: 0.8885 - val_loss: 0.3687 - val_accuracy: 0.8833\n",
            "Epoch 38/100\n",
            "45/45 [==============================] - 5s 122ms/step - loss: 0.4173 - accuracy: 0.8547 - val_loss: 0.3891 - val_accuracy: 0.8833\n",
            "Epoch 39/100\n",
            "45/45 [==============================] - 5s 122ms/step - loss: 0.3974 - accuracy: 0.8652 - val_loss: 0.3655 - val_accuracy: 0.8833\n",
            "Epoch 40/100\n",
            "45/45 [==============================] - 6s 123ms/step - loss: 0.3983 - accuracy: 0.8643 - val_loss: 0.3622 - val_accuracy: 0.8833\n",
            "Epoch 41/100\n",
            "45/45 [==============================] - 5s 122ms/step - loss: 0.4087 - accuracy: 0.8614 - val_loss: 0.3755 - val_accuracy: 0.8833\n",
            "Epoch 42/100\n",
            "45/45 [==============================] - 6s 124ms/step - loss: 0.3721 - accuracy: 0.8780 - val_loss: 0.3660 - val_accuracy: 0.8833\n",
            "Epoch 43/100\n",
            "45/45 [==============================] - 6s 124ms/step - loss: 0.4089 - accuracy: 0.8597 - val_loss: 0.3705 - val_accuracy: 0.8833\n",
            "Epoch 44/100\n",
            "45/45 [==============================] - 5s 122ms/step - loss: 0.3531 - accuracy: 0.8873 - val_loss: 0.4216 - val_accuracy: 0.8833\n",
            "Epoch 45/100\n",
            "45/45 [==============================] - 6s 123ms/step - loss: 0.3889 - accuracy: 0.8712 - val_loss: 0.3616 - val_accuracy: 0.8833\n",
            "Epoch 46/100\n",
            "45/45 [==============================] - 6s 123ms/step - loss: 0.4131 - accuracy: 0.8570 - val_loss: 0.3932 - val_accuracy: 0.8833\n",
            "Epoch 47/100\n",
            "45/45 [==============================] - 6s 123ms/step - loss: 0.3871 - accuracy: 0.8716 - val_loss: 0.3853 - val_accuracy: 0.8833\n",
            "Epoch 48/100\n",
            "45/45 [==============================] - 6s 124ms/step - loss: 0.3944 - accuracy: 0.8679 - val_loss: 0.3745 - val_accuracy: 0.8833\n",
            "Epoch 49/100\n",
            "45/45 [==============================] - 6s 124ms/step - loss: 0.3712 - accuracy: 0.8796 - val_loss: 0.3621 - val_accuracy: 0.8833\n",
            "Epoch 50/100\n",
            "45/45 [==============================] - 6s 124ms/step - loss: 0.3854 - accuracy: 0.8714 - val_loss: 0.3618 - val_accuracy: 0.8833\n",
            "Epoch 51/100\n",
            "45/45 [==============================] - 6s 123ms/step - loss: 0.3644 - accuracy: 0.8818 - val_loss: 0.4168 - val_accuracy: 0.8833\n",
            "Epoch 52/100\n",
            "45/45 [==============================] - 6s 123ms/step - loss: 0.3983 - accuracy: 0.8645 - val_loss: 0.3620 - val_accuracy: 0.8833\n",
            "Epoch 53/100\n",
            "45/45 [==============================] - 6s 123ms/step - loss: 0.4340 - accuracy: 0.8469 - val_loss: 0.3668 - val_accuracy: 0.8833\n",
            "Epoch 54/100\n",
            "45/45 [==============================] - 6s 126ms/step - loss: 0.3718 - accuracy: 0.8792 - val_loss: 0.3903 - val_accuracy: 0.8833\n",
            "Epoch 55/100\n",
            "45/45 [==============================] - 6s 123ms/step - loss: 0.4156 - accuracy: 0.8551 - val_loss: 0.3614 - val_accuracy: 0.8833\n",
            "Epoch 56/100\n",
            "45/45 [==============================] - 6s 124ms/step - loss: 0.3668 - accuracy: 0.8800 - val_loss: 0.3822 - val_accuracy: 0.8833\n",
            "Epoch 57/100\n",
            "45/45 [==============================] - 6s 124ms/step - loss: 0.3788 - accuracy: 0.8750 - val_loss: 0.3674 - val_accuracy: 0.8833\n",
            "Epoch 58/100\n",
            "45/45 [==============================] - 6s 123ms/step - loss: 0.3971 - accuracy: 0.8646 - val_loss: 0.3682 - val_accuracy: 0.8833\n",
            "Epoch 59/100\n",
            "45/45 [==============================] - 6s 124ms/step - loss: 0.3936 - accuracy: 0.8673 - val_loss: 0.3607 - val_accuracy: 0.8833\n",
            "Epoch 60/100\n",
            "45/45 [==============================] - 6s 123ms/step - loss: 0.4259 - accuracy: 0.8495 - val_loss: 0.3712 - val_accuracy: 0.8833\n",
            "Epoch 61/100\n",
            "45/45 [==============================] - 6s 123ms/step - loss: 0.3360 - accuracy: 0.8957 - val_loss: 0.4907 - val_accuracy: 0.8833\n",
            "Epoch 62/100\n",
            "45/45 [==============================] - 6s 123ms/step - loss: 0.4190 - accuracy: 0.8531 - val_loss: 0.3667 - val_accuracy: 0.8833\n",
            "Epoch 63/100\n",
            "45/45 [==============================] - 5s 122ms/step - loss: 0.4080 - accuracy: 0.8602 - val_loss: 0.3637 - val_accuracy: 0.8833\n",
            "Epoch 64/100\n",
            "45/45 [==============================] - 5s 122ms/step - loss: 0.3720 - accuracy: 0.8784 - val_loss: 0.3820 - val_accuracy: 0.8833\n",
            "Epoch 65/100\n",
            "45/45 [==============================] - 6s 123ms/step - loss: 0.3753 - accuracy: 0.8782 - val_loss: 0.3614 - val_accuracy: 0.8833\n",
            "Epoch 66/100\n",
            "45/45 [==============================] - 6s 123ms/step - loss: 0.4053 - accuracy: 0.8608 - val_loss: 0.3604 - val_accuracy: 0.8833\n",
            "Epoch 67/100\n",
            "45/45 [==============================] - 6s 123ms/step - loss: 0.3864 - accuracy: 0.8705 - val_loss: 0.3681 - val_accuracy: 0.8833\n",
            "Epoch 68/100\n",
            "45/45 [==============================] - 6s 122ms/step - loss: 0.3809 - accuracy: 0.8738 - val_loss: 0.3602 - val_accuracy: 0.8833\n",
            "Epoch 69/100\n",
            "45/45 [==============================] - 6s 123ms/step - loss: 0.3945 - accuracy: 0.8672 - val_loss: 0.3607 - val_accuracy: 0.8833\n",
            "Epoch 70/100\n",
            "45/45 [==============================] - 6s 123ms/step - loss: 0.3772 - accuracy: 0.8754 - val_loss: 0.3609 - val_accuracy: 0.8833\n",
            "Epoch 71/100\n",
            "45/45 [==============================] - 6s 123ms/step - loss: 0.3940 - accuracy: 0.8664 - val_loss: 0.3669 - val_accuracy: 0.8833\n",
            "Epoch 72/100\n",
            "45/45 [==============================] - 5s 122ms/step - loss: 0.3916 - accuracy: 0.8685 - val_loss: 0.3608 - val_accuracy: 0.8833\n",
            "Epoch 73/100\n",
            "45/45 [==============================] - 5s 122ms/step - loss: 0.3856 - accuracy: 0.8709 - val_loss: 0.3683 - val_accuracy: 0.8833\n",
            "Epoch 74/100\n",
            "45/45 [==============================] - 6s 123ms/step - loss: 0.4045 - accuracy: 0.8609 - val_loss: 0.3744 - val_accuracy: 0.8833\n",
            "Epoch 75/100\n",
            "45/45 [==============================] - 5s 122ms/step - loss: 0.3777 - accuracy: 0.8749 - val_loss: 0.3798 - val_accuracy: 0.8833\n",
            "Epoch 76/100\n",
            "45/45 [==============================] - 6s 123ms/step - loss: 0.3665 - accuracy: 0.8817 - val_loss: 0.3603 - val_accuracy: 0.8833\n",
            "Epoch 77/100\n",
            "45/45 [==============================] - 5s 122ms/step - loss: 0.3703 - accuracy: 0.8785 - val_loss: 0.3732 - val_accuracy: 0.8833\n",
            "Epoch 78/100\n",
            "45/45 [==============================] - 6s 123ms/step - loss: 0.3885 - accuracy: 0.8695 - val_loss: 0.3605 - val_accuracy: 0.8833\n",
            "Epoch 79/100\n",
            "45/45 [==============================] - 6s 123ms/step - loss: 0.3635 - accuracy: 0.8822 - val_loss: 0.3611 - val_accuracy: 0.8833\n",
            "Epoch 80/100\n",
            "45/45 [==============================] - 6s 123ms/step - loss: 0.3997 - accuracy: 0.8641 - val_loss: 0.3615 - val_accuracy: 0.8833\n",
            "Epoch 81/100\n",
            "45/45 [==============================] - 6s 123ms/step - loss: 0.3793 - accuracy: 0.8745 - val_loss: 0.3619 - val_accuracy: 0.8833\n",
            "Epoch 82/100\n",
            "45/45 [==============================] - 6s 123ms/step - loss: 0.3452 - accuracy: 0.8924 - val_loss: 0.3640 - val_accuracy: 0.8833\n",
            "Epoch 83/100\n",
            "45/45 [==============================] - 6s 125ms/step - loss: 0.3626 - accuracy: 0.8845 - val_loss: 0.3603 - val_accuracy: 0.8833\n",
            "Epoch 84/100\n",
            "45/45 [==============================] - 5s 122ms/step - loss: 0.3608 - accuracy: 0.8841 - val_loss: 0.3632 - val_accuracy: 0.8833\n",
            "Epoch 85/100\n",
            "45/45 [==============================] - 5s 122ms/step - loss: 0.3656 - accuracy: 0.8814 - val_loss: 0.3706 - val_accuracy: 0.8833\n",
            "Epoch 86/100\n",
            "45/45 [==============================] - 6s 123ms/step - loss: 0.4051 - accuracy: 0.8601 - val_loss: 0.3670 - val_accuracy: 0.8833\n",
            "Epoch 87/100\n",
            "45/45 [==============================] - 5s 122ms/step - loss: 0.4284 - accuracy: 0.8493 - val_loss: 0.3677 - val_accuracy: 0.8833\n",
            "Epoch 88/100\n",
            "45/45 [==============================] - 6s 123ms/step - loss: 0.3649 - accuracy: 0.8814 - val_loss: 0.3605 - val_accuracy: 0.8833\n",
            "Epoch 89/100\n",
            "45/45 [==============================] - 5s 122ms/step - loss: 0.3749 - accuracy: 0.8780 - val_loss: 0.3667 - val_accuracy: 0.8833\n",
            "Epoch 90/100\n",
            "45/45 [==============================] - 6s 123ms/step - loss: 0.3855 - accuracy: 0.8710 - val_loss: 0.3605 - val_accuracy: 0.8833\n",
            "Epoch 91/100\n",
            "45/45 [==============================] - 6s 123ms/step - loss: 0.4014 - accuracy: 0.8633 - val_loss: 0.3619 - val_accuracy: 0.8833\n",
            "Epoch 92/100\n",
            "45/45 [==============================] - 5s 122ms/step - loss: 0.3890 - accuracy: 0.8697 - val_loss: 0.3620 - val_accuracy: 0.8833\n",
            "Epoch 93/100\n",
            "45/45 [==============================] - 6s 123ms/step - loss: 0.4138 - accuracy: 0.8553 - val_loss: 0.3624 - val_accuracy: 0.8833\n",
            "Epoch 94/100\n",
            "45/45 [==============================] - 5s 122ms/step - loss: 0.3823 - accuracy: 0.8726 - val_loss: 0.3690 - val_accuracy: 0.8833\n",
            "Epoch 95/100\n",
            "45/45 [==============================] - 5s 122ms/step - loss: 0.3726 - accuracy: 0.8779 - val_loss: 0.3819 - val_accuracy: 0.8833\n",
            "Epoch 96/100\n",
            "45/45 [==============================] - 5s 122ms/step - loss: 0.3912 - accuracy: 0.8684 - val_loss: 0.3633 - val_accuracy: 0.8833\n",
            "Epoch 97/100\n",
            "45/45 [==============================] - 5s 122ms/step - loss: 0.3600 - accuracy: 0.8842 - val_loss: 0.3611 - val_accuracy: 0.8833\n",
            "Epoch 98/100\n",
            "45/45 [==============================] - 5s 122ms/step - loss: 0.4275 - accuracy: 0.8482 - val_loss: 0.3745 - val_accuracy: 0.8833\n",
            "Epoch 99/100\n",
            "45/45 [==============================] - 6s 123ms/step - loss: 0.3956 - accuracy: 0.8668 - val_loss: 0.3607 - val_accuracy: 0.8833\n",
            "Epoch 100/100\n",
            "45/45 [==============================] - 6s 123ms/step - loss: 0.3913 - accuracy: 0.8687 - val_loss: 0.3603 - val_accuracy: 0.8833\n"
          ],
          "name": "stdout"
        }
      ]
    },
    {
      "cell_type": "code",
      "metadata": {
        "id": "XvlQEPn-msGt",
        "colab": {
          "base_uri": "https://localhost:8080/",
          "height": 295
        },
        "outputId": "a355090d-66a9-4e9d-fb92-e5fa2e7ac4de"
      },
      "source": [
        "# Plot history: MAE\r\n",
        "plt.plot(hist.history['loss'], label='MAE (training data)')\r\n",
        "plt.plot(hist.history['val_loss'], label='MAE (validation data)')\r\n",
        "plt.title('MAE for Chennai Reservoir Levels')\r\n",
        "plt.ylabel('MAE value')\r\n",
        "plt.xlabel('No. epoch')\r\n",
        "plt.legend(loc=\"upper left\")\r\n",
        "plt.show()"
      ],
      "execution_count": null,
      "outputs": [
        {
          "output_type": "display_data",
          "data": {
            "image/png": "[encoded data removed]",
            "text/plain": [
              "<Figure size 432x288 with 1 Axes>"
            ]
          },
          "metadata": {
            "tags": [],
            "needs_background": "light"
          }
        }
      ]
    },
    {
      "cell_type": "code",
      "metadata": {
        "colab": {
          "base_uri": "https://localhost:8080/",
          "height": 282
        },
        "id": "siES65huRoub",
        "outputId": "1a089b4e-6784-488a-bfeb-847303f6190f"
      },
      "source": [
        "plt.plot(train_sig[0])\r\n",
        "print(\"class_label:{}, prediction_name: Preterm\".format(Y[0]))"
      ],
      "execution_count": null,
      "outputs": [
        {
          "output_type": "stream",
          "text": [
            "class_label:[0], prediction_name: Preterm\n"
          ],
          "name": "stdout"
        },
        {
          "output_type": "display_data",
          "data": {
            "image/png": "[encoded data removed]",
            "text/plain": [
              "<Figure size 432x288 with 1 Axes>"
            ]
          },
          "metadata": {
            "tags": [],
            "needs_background": "light"
          }
        }
      ]
    }
  ]
}