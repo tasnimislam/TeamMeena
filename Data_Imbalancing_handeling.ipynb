{
  "nbformat": 4,
  "nbformat_minor": 0,
  "metadata": {
    "colab": {
      "name": "Data Imbalancing handeling.ipynb",
      "provenance": [],
      "collapsed_sections": [],
      "authorship_tag": "ABX9TyO+mkFm/AQygH+4J40dmJkP",
      "include_colab_link": true
    },
    "kernelspec": {
      "display_name": "Python 3",
      "name": "python3"
    }
  },
  "cells": [
    {
      "cell_type": "markdown",
      "metadata": {
        "id": "view-in-github",
        "colab_type": "text"
      },
      "source": [
        "<a href=\"https://colab.research.google.com/github/tasnimislam/TeamMeena/blob/main/Data_Imbalancing_handeling.ipynb\" target=\"_parent\"><img src=\"https://colab.research.google.com/assets/colab-badge.svg\" alt=\"Open In Colab\"/></a>"
      ]
    },
    {
      "cell_type": "code",
      "metadata": {
        "colab": {
          "base_uri": "https://localhost:8080/"
        },
        "id": "IN8s_Jc-mnip",
        "outputId": "cacfc9d9-77f2-4069-9be5-2e5c610ea65c"
      },
      "source": [
        "from google.colab import drive\r\n",
        "drive.mount('/content/drive')"
      ],
      "execution_count": null,
      "outputs": [
        {
          "output_type": "stream",
          "text": [
            "Mounted at /content/drive\n"
          ],
          "name": "stdout"
        }
      ]
    },
    {
      "cell_type": "markdown",
      "metadata": {
        "id": "CuN9g991nXmb"
      },
      "source": [
        "# Import Libraries"
      ]
    },
    {
      "cell_type": "code",
      "metadata": {
        "colab": {
          "base_uri": "https://localhost:8080/"
        },
        "id": "Isjf4ytcnT_9",
        "outputId": "a28b7aea-9040-477c-9231-48b88422ae6d"
      },
      "source": [
        "!pip install wfdb==0.1.2\r\n",
        "\r\n",
        "import pandas as pd\r\n",
        "import os\r\n",
        "import wfdb\r\n",
        "from wfdb import rdsamp\r\n",
        "from tqdm import tqdm\r\n",
        "import random\r\n",
        "import numpy as np\r\n",
        "from scipy.ndimage import filters"
      ],
      "execution_count": null,
      "outputs": [
        {
          "output_type": "stream",
          "text": [
            "Collecting wfdb==0.1.2\n",
            "  Downloading https://files.pythonhosted.org/packages/79/4b/e193d8482ea0eaf9e8db74d499b7b526116b509b97c59d7430513f1f3cda/wfdb-0.1.2.tar.gz\n",
            "Collecting nose>=1.3.7\n",
            "\u001b[?25l  Downloading https://files.pythonhosted.org/packages/15/d8/dd071918c040f50fa1cf80da16423af51ff8ce4a0f2399b7bf8de45ac3d9/nose-1.3.7-py3-none-any.whl (154kB)\n",
            "\u001b[K     |████████████████████████████████| 163kB 20.2MB/s \n",
            "\u001b[?25hRequirement already satisfied: numpy>=1.11.0 in /usr/local/lib/python3.6/dist-packages (from wfdb==0.1.2) (1.19.5)\n",
            "Requirement already satisfied: matplotlib>=1.5.1 in /usr/local/lib/python3.6/dist-packages (from wfdb==0.1.2) (3.2.2)\n",
            "Requirement already satisfied: requests>=2.10.0 in /usr/local/lib/python3.6/dist-packages (from wfdb==0.1.2) (2.23.0)\n",
            "Requirement already satisfied: python-dateutil>=2.1 in /usr/local/lib/python3.6/dist-packages (from matplotlib>=1.5.1->wfdb==0.1.2) (2.8.1)\n",
            "Requirement already satisfied: pyparsing!=2.0.4,!=2.1.2,!=2.1.6,>=2.0.1 in /usr/local/lib/python3.6/dist-packages (from matplotlib>=1.5.1->wfdb==0.1.2) (2.4.7)\n",
            "Requirement already satisfied: kiwisolver>=1.0.1 in /usr/local/lib/python3.6/dist-packages (from matplotlib>=1.5.1->wfdb==0.1.2) (1.3.1)\n",
            "Requirement already satisfied: cycler>=0.10 in /usr/local/lib/python3.6/dist-packages (from matplotlib>=1.5.1->wfdb==0.1.2) (0.10.0)\n",
            "Requirement already satisfied: idna<3,>=2.5 in /usr/local/lib/python3.6/dist-packages (from requests>=2.10.0->wfdb==0.1.2) (2.10)\n",
            "Requirement already satisfied: chardet<4,>=3.0.2 in /usr/local/lib/python3.6/dist-packages (from requests>=2.10.0->wfdb==0.1.2) (3.0.4)\n",
            "Requirement already satisfied: urllib3!=1.25.0,!=1.25.1,<1.26,>=1.21.1 in /usr/local/lib/python3.6/dist-packages (from requests>=2.10.0->wfdb==0.1.2) (1.24.3)\n",
            "Requirement already satisfied: certifi>=2017.4.17 in /usr/local/lib/python3.6/dist-packages (from requests>=2.10.0->wfdb==0.1.2) (2020.12.5)\n",
            "Requirement already satisfied: six>=1.5 in /usr/local/lib/python3.6/dist-packages (from python-dateutil>=2.1->matplotlib>=1.5.1->wfdb==0.1.2) (1.15.0)\n",
            "Building wheels for collected packages: wfdb\n",
            "  Building wheel for wfdb (setup.py) ... \u001b[?25l\u001b[?25hdone\n",
            "  Created wheel for wfdb: filename=wfdb-0.1.2-cp36-none-any.whl size=23148 sha256=38b61512daf893254ca1bffd6fa17f0cf6e4a4c9d09fa82a24fe7957dbdb1208\n",
            "  Stored in directory: /root/.cache/pip/wheels/b9/2e/12/e215b6517234c8fc17638fba70081e319ec8f0c21e67c1619b\n",
            "Successfully built wfdb\n",
            "Installing collected packages: nose, wfdb\n",
            "Successfully installed nose-1.3.7 wfdb-0.1.2\n"
          ],
          "name": "stdout"
        }
      ]
    },
    {
      "cell_type": "markdown",
      "metadata": {
        "id": "rODb1lUjn__4"
      },
      "source": [
        "# Input data Preparation\r\n"
      ]
    },
    {
      "cell_type": "code",
      "metadata": {
        "colab": {
          "base_uri": "https://localhost:8080/",
          "height": 204
        },
        "id": "8aE7SFZTnfIW",
        "outputId": "29eb6aad-e91c-43f0-f5fb-3e6f54262f2b"
      },
      "source": [
        "keras_input = pd.DataFrame()\r\n",
        "file = open(\"/content/drive/MyDrive/mmg_dataset_v2/fvl files/0_3 theke 3 hertz.txt\")\r\n",
        "i = 0\r\n",
        "# Record   | Chann | Gestation | Rec. time |   Group   |   RMS   |  Fmed  | Fpeak  | Samp. en. | Premature | Early \r\n",
        "for line in file:\r\n",
        "  if i<2:\r\n",
        "    i+=1\r\n",
        "    continue\r\n",
        "  line = line.split(\"|\")\r\n",
        "\r\n",
        "  keras_input.at[i, \"Record\"] = line[0]\r\n",
        "  keras_input.at[i, \"Channel_no\"] = line[1]\r\n",
        "  keras_input.at[i, \"Gestation\"] = line[2]\r\n",
        "  keras_input.at[i, \"Record_time\"] = line[3]\r\n",
        "  keras_input.at[i, \"RMS\"] = line[5]\r\n",
        "  keras_input.at[i, \"Fmed\"] = line[6]\r\n",
        "  keras_input.at[i, \"Fpeak\"] = line[7]\r\n",
        "  keras_input.at[i, \"Samp. en.\"] = line[8]\r\n",
        "  keras_input.at[i, \"Premature\"] = line[9]\r\n",
        "  keras_input.at[i, \"Early\"] = line[10][:-1]\r\n",
        "  i +=1\r\n",
        "keras_input.head()"
      ],
      "execution_count": null,
      "outputs": [
        {
          "output_type": "execute_result",
          "data": {
            "text/html": [
              "<div>\n",
              "<style scoped>\n",
              "    .dataframe tbody tr th:only-of-type {\n",
              "        vertical-align: middle;\n",
              "    }\n",
              "\n",
              "    .dataframe tbody tr th {\n",
              "        vertical-align: top;\n",
              "    }\n",
              "\n",
              "    .dataframe thead th {\n",
              "        text-align: right;\n",
              "    }\n",
              "</style>\n",
              "<table border=\"1\" class=\"dataframe\">\n",
              "  <thead>\n",
              "    <tr style=\"text-align: right;\">\n",
              "      <th></th>\n",
              "      <th>Record</th>\n",
              "      <th>Channel_no</th>\n",
              "      <th>Gestation</th>\n",
              "      <th>Record_time</th>\n",
              "      <th>RMS</th>\n",
              "      <th>Fmed</th>\n",
              "      <th>Fpeak</th>\n",
              "      <th>Samp. en.</th>\n",
              "      <th>Premature</th>\n",
              "      <th>Early</th>\n",
              "    </tr>\n",
              "  </thead>\n",
              "  <tbody>\n",
              "    <tr>\n",
              "      <th>2</th>\n",
              "      <td>tpehg1007</td>\n",
              "      <td>1</td>\n",
              "      <td>35.00</td>\n",
              "      <td>31.29</td>\n",
              "      <td>16.5069</td>\n",
              "      <td>0.3688</td>\n",
              "      <td>0.3324</td>\n",
              "      <td>0.5180</td>\n",
              "      <td>t</td>\n",
              "      <td>f</td>\n",
              "    </tr>\n",
              "    <tr>\n",
              "      <th>3</th>\n",
              "      <td>tpehg1007</td>\n",
              "      <td>2</td>\n",
              "      <td>35.00</td>\n",
              "      <td>31.29</td>\n",
              "      <td>16.9946</td>\n",
              "      <td>0.3688</td>\n",
              "      <td>0.3159</td>\n",
              "      <td>0.3810</td>\n",
              "      <td>t</td>\n",
              "      <td>f</td>\n",
              "    </tr>\n",
              "    <tr>\n",
              "      <th>4</th>\n",
              "      <td>tpehg1007</td>\n",
              "      <td>3</td>\n",
              "      <td>35.00</td>\n",
              "      <td>31.29</td>\n",
              "      <td>8.4198</td>\n",
              "      <td>0.3981</td>\n",
              "      <td>0.2938</td>\n",
              "      <td>0.5640</td>\n",
              "      <td>t</td>\n",
              "      <td>f</td>\n",
              "    </tr>\n",
              "    <tr>\n",
              "      <th>5</th>\n",
              "      <td>tpehg1021</td>\n",
              "      <td>1</td>\n",
              "      <td>38.57</td>\n",
              "      <td>22.29</td>\n",
              "      <td>14.4062</td>\n",
              "      <td>0.4170</td>\n",
              "      <td>0.3828</td>\n",
              "      <td>0.4460</td>\n",
              "      <td>f</td>\n",
              "      <td>t</td>\n",
              "    </tr>\n",
              "    <tr>\n",
              "      <th>6</th>\n",
              "      <td>tpehg1021</td>\n",
              "      <td>2</td>\n",
              "      <td>38.57</td>\n",
              "      <td>22.29</td>\n",
              "      <td>12.3715</td>\n",
              "      <td>0.4120</td>\n",
              "      <td>0.3136</td>\n",
              "      <td>0.4370</td>\n",
              "      <td>f</td>\n",
              "      <td>t</td>\n",
              "    </tr>\n",
              "  </tbody>\n",
              "</table>\n",
              "</div>"
            ],
            "text/plain": [
              "        Record Channel_no    Gestation  ...    Samp. en.    Premature Early\n",
              "2   tpehg1007          1        35.00   ...      0.5180    t              f\n",
              "3   tpehg1007          2        35.00   ...      0.3810    t              f\n",
              "4   tpehg1007          3        35.00   ...      0.5640    t              f\n",
              "5   tpehg1021          1        38.57   ...      0.4460    f              t\n",
              "6   tpehg1021          2        38.57   ...      0.4370    f              t\n",
              "\n",
              "[5 rows x 10 columns]"
            ]
          },
          "metadata": {
            "tags": []
          },
          "execution_count": 3
        }
      ]
    },
    {
      "cell_type": "code",
      "metadata": {
        "colab": {
          "base_uri": "https://localhost:8080/"
        },
        "id": "Q6Af3LL7nxY_",
        "outputId": "875dbe35-f061-4836-e5aa-4347a11b8eda"
      },
      "source": [
        "keras_input[\"Channel_no\"] = keras_input.Channel_no.astype(\"int64\")\r\n",
        "print(len(keras_input))\r\n",
        "listi = list(keras_input.columns)"
      ],
      "execution_count": null,
      "outputs": [
        {
          "output_type": "stream",
          "text": [
            "900\n"
          ],
          "name": "stdout"
        }
      ]
    },
    {
      "cell_type": "code",
      "metadata": {
        "colab": {
          "background_save": true,
          "base_uri": "https://localhost:8080/"
        },
        "id": "T6_kVg4An5zo",
        "outputId": "398ea974-86b4-4b6d-d422-4842165cc2fd"
      },
      "source": [
        "signals = []\r\n",
        "classi_list = []\r\n",
        "read_file_dir = \"/content/drive/MyDrive/mmg_dataset_v2/term-preterm-ehg-database-1.0.1.zip (Unzipped Files)/term-preterm-ehg-database-1.0.1/tpehgdb\"\r\n",
        "for i in tqdm(range(len(keras_input))):\r\n",
        "  record_name = keras_input.iloc[i][\"Record\"][1:-1]\r\n",
        "  record_name = os.path.join(read_file_dir, record_name + \".hea\")\r\n",
        "  try:\r\n",
        "    sig, fields = rdsamp(record_name[:-4], sampfrom=0, sampto=[], channels=[], physical=1, stacksegments=1, pbdl=0, keepfiles=0)\r\n",
        "    if keras_input.iloc[i][\"Channel_no\"] == 1.0: signal = sig[:,2] \r\n",
        "    if keras_input.iloc[i][\"Channel_no\"] == 2.0: signal = sig[:,6]\r\n",
        "    if keras_input.iloc[i][\"Channel_no\"] == 3.0: signal = sig[:,10]\r\n",
        "    if keras_input.iloc[i][\"Premature\"]== keras_input.iloc[0][\"Premature\"]: classi = 0\r\n",
        "    if keras_input.iloc[i][\"Premature\"]==keras_input.iloc[3][\"Premature\"]: classi = 1\r\n",
        "    signals.append(signal)\r\n",
        "    classi_list.append(classi)\r\n",
        "  except:\r\n",
        "    continue"
      ],
      "execution_count": null,
      "outputs": [
        {
          "output_type": "stream",
          "text": [
            "100%|██████████| 900/900 [00:07<00:00, 112.72it/s]\n"
          ],
          "name": "stderr"
        }
      ]
    },
    {
      "cell_type": "code",
      "metadata": {
        "colab": {
          "base_uri": "https://localhost:8080/"
        },
        "id": "0OfBAxmlenjB",
        "outputId": "aed7e87d-f644-48d5-d301-240813b5fed3"
      },
      "source": [
        "print(len(classi_list)) "
      ],
      "execution_count": null,
      "outputs": [
        {
          "output_type": "stream",
          "text": [
            "603\n"
          ],
          "name": "stdout"
        }
      ]
    },
    {
      "cell_type": "code",
      "metadata": {
        "colab": {
          "base_uri": "https://localhost:8080/"
        },
        "id": "AyPejX5IhpEp",
        "outputId": "8ece9ea2-5da8-41fe-f06c-b3bcf4c8f5e5"
      },
      "source": [
        "#there were faulty file names so we are working on remaining 603 signals\r\n",
        "term = classi_list.count(1)\r\n",
        "preterm = classi_list.count(0)\r\n",
        "print(\"preterm\", preterm)\r\n",
        "print(\"term\", term)"
      ],
      "execution_count": null,
      "outputs": [
        {
          "output_type": "stream",
          "text": [
            "preterm 75\n",
            "term 528\n"
          ],
          "name": "stdout"
        }
      ]
    },
    {
      "cell_type": "markdown",
      "metadata": {
        "id": "xY_UJcaXjlDM"
      },
      "source": [
        "Preterm and Term is imbalanced, so we balance the dataset, oversampling the dataset using linear oversampling method\r\n"
      ]
    },
    {
      "cell_type": "code",
      "metadata": {
        "id": "pGZfFA1jpaqU"
      },
      "source": [
        "def linear_augment_function(signal, no_sample, cut_shape):\r\n",
        "    '''\r\n",
        "    signal: numpy formatted 1D single channel signal\r\n",
        "    no_sample: the number of signals desired to be augmented for a single signal\r\n",
        "    cut_shape: the range of signal that will be cut for further concatenation\r\n",
        "    returns a list of augmented signals of a particular signal of particular channel\r\n",
        "    '''\r\n",
        "    list_aug_signals = []\r\n",
        "    sig_shape = signal.shape[0]\r\n",
        "    last_range_lim = sig_shape-2*cut_shape\r\n",
        "    for i in range(no_sample):\r\n",
        "        x = random.randrange(0, last_range_lim, 1)\r\n",
        "        first_part_numpy_signal = signal[x:x+cut_shape]\r\n",
        "        numpy_sig = np.concatenate((signal, first_part_numpy_signal))\r\n",
        "        new_signal = numpy_sig[:sig_shape]\r\n",
        "        filterd_signal = filters.convolve1d(np.array(signal), np.array(new_signal))\r\n",
        "        filterd_signal = filterd_signal[:sig_shape]\r\n",
        "        list_aug_signals.append(filterd_signal)\r\n",
        "    return list_aug_signals"
      ],
      "execution_count": null,
      "outputs": []
    },
    {
      "cell_type": "code",
      "metadata": {
        "colab": {
          "base_uri": "https://localhost:8080/"
        },
        "id": "ZZQhoSSupRSK",
        "outputId": "3508c39a-158e-43b1-e701-93c664da1bb7"
      },
      "source": [
        "preterm_index = [i for i, value in enumerate(classi_list) if value == 0]\r\n",
        "term_index = [i for i, value in enumerate(classi_list) if value == 1]\r\n",
        "print(preterm_index)"
      ],
      "execution_count": null,
      "outputs": [
        {
          "output_type": "stream",
          "text": [
            "[0, 1, 2, 102, 103, 104, 129, 130, 131, 132, 133, 134, 207, 208, 209, 219, 220, 221, 225, 226, 227, 279, 280, 281, 297, 298, 299, 303, 304, 305, 327, 328, 329, 333, 334, 335, 336, 337, 338, 348, 349, 350, 360, 361, 362, 384, 385, 386, 387, 388, 389, 402, 403, 404, 447, 448, 449, 555, 556, 557, 558, 559, 560, 570, 571, 572, 591, 592, 593, 597, 598, 599, 600, 601, 602]\n"
          ],
          "name": "stdout"
        }
      ]
    },
    {
      "cell_type": "code",
      "metadata": {
        "colab": {
          "base_uri": "https://localhost:8080/"
        },
        "id": "3oViqQ4uvuKP",
        "outputId": "5c6de9d7-7d3b-498d-9a51-c42876ed87ee"
      },
      "source": [
        "augmented_final_preterm = []\r\n",
        "for i in tqdm(preterm_index):\r\n",
        "  augmented_final_preterm.append(linear_augment_function(signals[i], 10, 5000))"
      ],
      "execution_count": null,
      "outputs": [
        {
          "output_type": "stream",
          "text": [
            "100%|██████████| 75/75 [22:03<00:00, 17.65s/it]\n"
          ],
          "name": "stderr"
        }
      ]
    },
    {
      "cell_type": "code",
      "metadata": {
        "colab": {
          "base_uri": "https://localhost:8080/"
        },
        "id": "TkjNpb611oyL",
        "outputId": "b52e4b8a-8eec-43b1-9b23-32ab3e13e904"
      },
      "source": [
        "print(len(augmented_final_preterm[0]))\r\n",
        "augmented_final_preterm[0]"
      ],
      "execution_count": null,
      "outputs": [
        {
          "output_type": "stream",
          "text": [
            "10\n"
          ],
          "name": "stdout"
        },
        {
          "output_type": "execute_result",
          "data": {
            "text/plain": [
              "[array([ 0.14316457,  0.24252818,  0.33846775, ..., -0.14777497,\n",
              "        -0.21064255, -0.27229768]),\n",
              " array([ 0.14316457,  0.24252818,  0.33846775, ..., -0.14777497,\n",
              "        -0.21064255, -0.27229768]),\n",
              " array([ 0.14316457,  0.24252818,  0.33846775, ..., -0.14777497,\n",
              "        -0.21064255, -0.27229768]),\n",
              " array([ 0.14316457,  0.24252818,  0.33846775, ..., -0.14777497,\n",
              "        -0.21064255, -0.27229768]),\n",
              " array([ 0.14316457,  0.24252818,  0.33846775, ..., -0.14777497,\n",
              "        -0.21064255, -0.27229768]),\n",
              " array([ 0.14316457,  0.24252818,  0.33846775, ..., -0.14777497,\n",
              "        -0.21064255, -0.27229768]),\n",
              " array([ 0.14316457,  0.24252818,  0.33846775, ..., -0.14777497,\n",
              "        -0.21064255, -0.27229768]),\n",
              " array([ 0.14316457,  0.24252818,  0.33846775, ..., -0.14777497,\n",
              "        -0.21064255, -0.27229768]),\n",
              " array([ 0.14316457,  0.24252818,  0.33846775, ..., -0.14777497,\n",
              "        -0.21064255, -0.27229768]),\n",
              " array([ 0.14316457,  0.24252818,  0.33846775, ..., -0.14777497,\n",
              "        -0.21064255, -0.27229768])]"
            ]
          },
          "metadata": {
            "tags": []
          },
          "execution_count": 11
        }
      ]
    },
    {
      "cell_type": "code",
      "metadata": {
        "id": "av20kuWMSWUu"
      },
      "source": [
        "listi = []\r\n",
        "for aug in augmented_final_preterm:\r\n",
        "  for all in aug:\r\n",
        "    listi.append(all)"
      ],
      "execution_count": null,
      "outputs": []
    },
    {
      "cell_type": "code",
      "metadata": {
        "colab": {
          "base_uri": "https://localhost:8080/"
        },
        "id": "21_n9Dc_Vif7",
        "outputId": "f7edcb95-69f8-48f6-c874-237b30718173"
      },
      "source": [
        "print(len(listi))\r\n",
        "preterm_after_augment = listi"
      ],
      "execution_count": null,
      "outputs": [
        {
          "output_type": "stream",
          "text": [
            "750\n"
          ],
          "name": "stdout"
        }
      ]
    },
    {
      "cell_type": "code",
      "metadata": {
        "colab": {
          "base_uri": "https://localhost:8080/"
        },
        "id": "fnNVZIpEVyRc",
        "outputId": "6bc9148e-69d3-4195-aea1-f96d11edb7ff"
      },
      "source": [
        "augmented_final_term = []\r\n",
        "for i in tqdm(term_index):\r\n",
        "  augmented_final_term.append(linear_augment_function(signals[i], 3, 5000))"
      ],
      "execution_count": null,
      "outputs": [
        {
          "output_type": "stream",
          "text": [
            "100%|██████████| 528/528 [29:22<00:00,  3.34s/it]\n"
          ],
          "name": "stderr"
        }
      ]
    },
    {
      "cell_type": "code",
      "metadata": {
        "id": "mIkXCWAriMV_"
      },
      "source": [
        "listi_term = []\r\n",
        "for aug in augmented_final_term:\r\n",
        "  for all in aug:\r\n",
        "    listi_term.append(all)"
      ],
      "execution_count": null,
      "outputs": []
    },
    {
      "cell_type": "code",
      "metadata": {
        "colab": {
          "base_uri": "https://localhost:8080/"
        },
        "id": "qEXKnbvDiamx",
        "outputId": "635eff0b-64c5-4c8f-af42-b61b82883a3e"
      },
      "source": [
        "print(len(listi_term))"
      ],
      "execution_count": null,
      "outputs": [
        {
          "output_type": "stream",
          "text": [
            "1584\n"
          ],
          "name": "stdout"
        }
      ]
    },
    {
      "cell_type": "code",
      "metadata": {
        "colab": {
          "base_uri": "https://localhost:8080/"
        },
        "id": "sVhqWQg7igwI",
        "outputId": "bdd43b4b-bd4d-402b-c500-d3747caad5d9"
      },
      "source": [
        "print(1584+750)"
      ],
      "execution_count": null,
      "outputs": [
        {
          "output_type": "stream",
          "text": [
            "2334\n"
          ],
          "name": "stdout"
        }
      ]
    },
    {
      "cell_type": "markdown",
      "metadata": {
        "id": "86MHsjeWtn2e"
      },
      "source": [
        "## Fix the shape of the signal"
      ]
    },
    {
      "cell_type": "code",
      "metadata": {
        "colab": {
          "base_uri": "https://localhost:8080/"
        },
        "id": "ycO-efeGrUoY",
        "outputId": "f37478d1-53c2-4b47-af5b-7e0f95c5f74c"
      },
      "source": [
        "signals_all = preterm_after_augment + listi_term\r\n",
        "list_signal_len = []\r\n",
        "for signal in signals_all:\r\n",
        "  list_signal_len.append(len(signal))\r\n",
        "print(min(list_signal_len))"
      ],
      "execution_count": null,
      "outputs": [
        {
          "output_type": "stream",
          "text": [
            "24105\n"
          ],
          "name": "stdout"
        }
      ]
    },
    {
      "cell_type": "markdown",
      "metadata": {
        "id": "I5Y-aMBRF6ln"
      },
      "source": [
        "The signal is ready for training"
      ]
    }
  ]
}